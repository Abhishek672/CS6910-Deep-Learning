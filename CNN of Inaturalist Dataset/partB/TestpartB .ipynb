{
  "nbformat": 4,
  "nbformat_minor": 0,
  "metadata": {
    "colab": {
      "name": "TestpartB.ipynb",
      "provenance": [],
      "collapsed_sections": []
    },
    "kernelspec": {
      "name": "python3",
      "display_name": "Python 3"
    },
    "language_info": {
      "name": "python"
    },
    "accelerator": "GPU"
  },
  "cells": [
    {
      "cell_type": "markdown",
      "metadata": {
        "id": "LoN1bJzL1p73"
      },
      "source": [
        "**0.Import Dependencies**"
      ]
    },
    {
      "cell_type": "code",
      "metadata": {
        "id": "Gt4mh5_E0DAK"
      },
      "source": [
        "import os\n",
        "from PIL import Image\n",
        "import numpy as np\n",
        "import pickle\n",
        "\n",
        "import matplotlib.pyplot as plt\n",
        "import matplotlib.image as mpimg\n",
        "from tqdm.notebook import tqdm\n",
        "\n",
        "from keras import backend as k\n",
        "from keras.preprocessing.image import ImageDataGenerator\n",
        "from keras.models import Sequential,Model\n",
        "\n",
        "from keras.applications.vgg16 import VGG16\n",
        "from keras.applications.inception_v3 import InceptionV3\n",
        "from keras.applications.inception_resnet_v2 import InceptionResNetV2\n",
        "from keras.applications.resnet50 import ResNet50\n",
        "from keras.applications.xception import Xception\n",
        "\n",
        "\n",
        "from keras.layers import Dense,Flatten,Conv2D,MaxPooling2D,AveragePooling2D,Dropout,BatchNormalization,Activation\n",
        "from keras.activations import relu,softmax\n",
        "from keras.initializers import he_normal,glorot_normal,random_normal,glorot_uniform\n",
        "from keras.losses import categorical_crossentropy\n",
        "from keras.optimizers import Adadelta,Adam\n",
        "from keras.utils import np_utils\n",
        "\n",
        "import warnings\n",
        "warnings.filterwarnings('ignore')"
      ],
      "execution_count": null,
      "outputs": []
    },
    {
      "cell_type": "markdown",
      "metadata": {
        "id": "IH25FJb41ubA"
      },
      "source": [
        "**1.Get the Zip file of data and extract it in the current session**"
      ]
    },
    {
      "cell_type": "code",
      "metadata": {
        "id": "DWYsP1i80Mw0"
      },
      "source": [
        "! wget https://storage.googleapis.com/wandb_datasets/nature_12K.zip\n",
        "! unzip '/content/nature_12K.zip'"
      ],
      "execution_count": null,
      "outputs": []
    },
    {
      "cell_type": "markdown",
      "metadata": {
        "id": "b37Vd_dN11LT"
      },
      "source": [
        "**2. Common Class For creating CNN Architecture,Training and Predicting.**"
      ]
    },
    {
      "cell_type": "code",
      "metadata": {
        "id": "J240wZQM0S1J"
      },
      "source": [
        "class Fine_Tune:\n",
        "\n",
        "  #target_size = (w x h x channel)\n",
        "  def __init__(self,target_size, num_neurons,num_hlayers,pretrained_model,trainable_layers):\n",
        "    self.model = Sequential()\n",
        "    self.target_size = target_size\n",
        "    self.num_neurons = num_neurons\n",
        "    self.num_hlayers = num_hlayers\n",
        "    self.pretrained_model = pretrained_model\n",
        "    self.trainable_layers = trainable_layers\n",
        "\n",
        "  def BUILD_MODEL(self):\n",
        "    if (self.pretrained_model == 'InceptionV3'):\n",
        "      prt = InceptionV3(weights='imagenet',include_top=False,input_shape = self.target_size)\n",
        "      trl = 31\n",
        "      \n",
        "    elif (self.pretrained_model == 'InceptionResnetV2'):\n",
        "      prt = InceptionResNetV2(weights='imagenet',include_top=False,input_shape = self.target_size)\n",
        "      trl = 36\n",
        "\n",
        "    elif (self.pretrained_model == 'ResNet50'):\n",
        "      prt = ResNet50(weights='imagenet',include_top=False,input_shape = self.target_size)\n",
        "      trl = 34\n",
        "\n",
        "    elif (self.pretrained_model == 'Xception') :\n",
        "      prt = Xception(weights='imagenet',include_top=False,input_shape = self.target_size)\n",
        "      trl = 17\n",
        "    else:\n",
        "      raise Exception(\"this model not used!!\")\n",
        "   \n",
        "    if self.trainable_layers == 'No':\n",
        "      for layer in prt.layers:\n",
        "          layer.trainable = False\n",
        "    else:\n",
        "      for layer in prt.layers[:-1*trl]:\n",
        "          layer.trainable = False\n",
        "\n",
        "    self.model.add(prt)\n",
        "\n",
        "    #Add dense layers.. \n",
        "    self.model.add(Flatten())\n",
        "\n",
        "    for i in range(self.num_hlayers):\n",
        "      self.model.add(Dense(units = self.num_neurons))\n",
        "      self.model.add(Activation('relu'))\n",
        "\n",
        "    self.model.add(Dense(units=10))\n",
        "    self.model.add(Activation('softmax'))\n",
        "\n",
        "    self.model.compile(optimizer='Adam',loss='categorical_crossentropy',metrics=['accuracy'])\n",
        "\n",
        "    return\n",
        "\n",
        "\n",
        "  def Fit_Model(self,train_path,epochs,batch_size):\n",
        "    tr_datagen = ImageDataGenerator(rescale=1./255,\n",
        "                                    shear_range=0.2,\n",
        "                                    horizontal_flip=True,\n",
        "                                    validation_split = 0.2)    #0.2 data used as a validation data..\n",
        "\n",
        "    tr_gen = tr_datagen.flow_from_directory(\n",
        "            directory = train_path,target_size = self.target_size[:2],color_mode = 'rgb',       \n",
        "            batch_size = batch_size,\n",
        "            class_mode = 'categorical',\n",
        "            shuffle = True,\n",
        "            seed = 10,\n",
        "            subset = 'training'\n",
        "            )\n",
        "\n",
        "    val_gen = tr_datagen.flow_from_directory(\n",
        "            directory = train_path,target_size = self.target_size[:2],color_mode = 'rgb',\n",
        "            batch_size = batch_size,\n",
        "            class_mode = 'categorical',\n",
        "            shuffle = True,\n",
        "            seed = 10,\n",
        "            subset = 'validation'\n",
        "            ) \n",
        "   \n",
        "    step_size_train = tr_gen.n//tr_gen.batch_size\n",
        "    step_size_valid = val_gen.n//val_gen.batch_size\n",
        "\n",
        "    self.model.fit_generator(generator = tr_gen,\n",
        "                             steps_per_epoch = step_size_train,\n",
        "                             validation_data = val_gen,\n",
        "                             validation_steps = step_size_valid,\n",
        "                             epochs = epochs,\n",
        "                             verbose = 1)\n",
        "    return\n",
        "\n",
        "  def Predict_Test(self,test_path):\n",
        "\n",
        "    ts_datagen = ImageDataGenerator(rescale = 1./255)\n",
        "    test_gen = ts_datagen.flow_from_directory(\n",
        "        directory = test_path,\n",
        "        target_size = self.target_size[:2],\n",
        "        color_mode = 'rgb',\n",
        "        batch_size = 1,\n",
        "        class_mode = None,\n",
        "        shuffle = False,\n",
        "        seed=10\n",
        "        )\n",
        "    \n",
        "    step_size_test = test_gen.n//test_gen.batch_size\n",
        "    test_gen.reset()\n",
        "    print('Getting predictions for test data..')\n",
        "    pred = self.model.predict_generator(generator = test_gen,\n",
        "                                  steps = step_size_test,\n",
        "                                  verbose = 1\n",
        "                                  )\n",
        "    ytrue = test_gen.classes ; ypred = np.argmax(pred,axis=1)\n",
        "    return np.sum(ytrue == ypred)/len(ytrue)"
      ],
      "execution_count": null,
      "outputs": []
    },
    {
      "cell_type": "markdown",
      "metadata": {
        "id": "MhF0hSue2BVd"
      },
      "source": [
        "**3.Train the model on the training data**"
      ]
    },
    {
      "cell_type": "code",
      "metadata": {
        "colab": {
          "base_uri": "https://localhost:8080/"
        },
        "id": "HNsv2qCg0a6G",
        "outputId": "5e34261a-8c9b-4ea6-91ac-c3494286a1f7"
      },
      "source": [
        "train_path = '/content/inaturalist_12K/train'\n",
        "\n",
        "target_size = (256,256,3)\n",
        "\n",
        "obj1 = Fine_Tune(target_size=target_size ,\n",
        "                   pretrained_model = 'ResNet50',          #select from ['InceptionV3' ,'InceptionResnetV2' , 'ResNet50' , 'Xception' ]\n",
        "                   num_neurons =64,                        #select any number\n",
        "                   num_hlayers = 1,                        #select from [1,2,3]\n",
        "                   trainable_layers='No')                  #select from ['Yes','No']\n",
        "obj1.BUILD_MODEL()\n",
        "obj1.Fit_Model(train_path,epochs=1,batch_size=32)"
      ],
      "execution_count": null,
      "outputs": [
        {
          "output_type": "stream",
          "text": [
            "Downloading data from https://storage.googleapis.com/tensorflow/keras-applications/resnet/resnet50_weights_tf_dim_ordering_tf_kernels_notop.h5\n",
            "94773248/94765736 [==============================] - 1s 0us/step\n",
            "Found 8000 images belonging to 10 classes.\n",
            "Found 1999 images belonging to 10 classes.\n",
            "250/250 [==============================] - 269s 936ms/step - loss: 4.9386 - accuracy: 0.1147 - val_loss: 2.3027 - val_accuracy: 0.0998\n"
          ],
          "name": "stdout"
        }
      ]
    },
    {
      "cell_type": "markdown",
      "metadata": {
        "id": "n8wi8HFl2GBd"
      },
      "source": [
        "**4.Get the accuracy for the test data**"
      ]
    },
    {
      "cell_type": "code",
      "metadata": {
        "id": "Stm7bLfX0-xc"
      },
      "source": [
        "test_path = '/content/inaturalist_12K/val'\n",
        "obj1.Predict_Test(test_path)"
      ],
      "execution_count": null,
      "outputs": []
    },
    {
      "cell_type": "code",
      "metadata": {
        "id": "cCsMs46s7-FT"
      },
      "source": [
        ""
      ],
      "execution_count": null,
      "outputs": []
    }
  ]
}