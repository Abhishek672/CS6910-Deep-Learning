{
  "nbformat": 4,
  "nbformat_minor": 0,
  "metadata": {
    "colab": {
      "name": "CNN_PartB.ipynb",
      "provenance": [],
      "collapsed_sections": []
    },
    "kernelspec": {
      "name": "python3",
      "display_name": "Python 3"
    },
    "language_info": {
      "name": "python"
    },
    "widgets": {
      "application/vnd.jupyter.widget-state+json": {
        "8f79b386fe5c44d4affaad9a7b6e73f2": {
          "model_module": "@jupyter-widgets/controls",
          "model_name": "VBoxModel",
          "state": {
            "_view_name": "VBoxView",
            "_dom_classes": [],
            "_model_name": "VBoxModel",
            "_view_module": "@jupyter-widgets/controls",
            "_model_module_version": "1.5.0",
            "_view_count": null,
            "_view_module_version": "1.5.0",
            "box_style": "",
            "layout": "IPY_MODEL_355c2ebd4b3e4ebcb8fc6edd9e67ad1e",
            "_model_module": "@jupyter-widgets/controls",
            "children": [
              "IPY_MODEL_158ed15ed1284259b2c35dda1e46dcc7",
              "IPY_MODEL_130be735ec3e484fa6aacc9d8d7f4680"
            ]
          }
        },
        "355c2ebd4b3e4ebcb8fc6edd9e67ad1e": {
          "model_module": "@jupyter-widgets/base",
          "model_name": "LayoutModel",
          "state": {
            "_view_name": "LayoutView",
            "grid_template_rows": null,
            "right": null,
            "justify_content": null,
            "_view_module": "@jupyter-widgets/base",
            "overflow": null,
            "_model_module_version": "1.2.0",
            "_view_count": null,
            "flex_flow": null,
            "width": null,
            "min_width": null,
            "border": null,
            "align_items": null,
            "bottom": null,
            "_model_module": "@jupyter-widgets/base",
            "top": null,
            "grid_column": null,
            "overflow_y": null,
            "overflow_x": null,
            "grid_auto_flow": null,
            "grid_area": null,
            "grid_template_columns": null,
            "flex": null,
            "_model_name": "LayoutModel",
            "justify_items": null,
            "grid_row": null,
            "max_height": null,
            "align_content": null,
            "visibility": null,
            "align_self": null,
            "height": null,
            "min_height": null,
            "padding": null,
            "grid_auto_rows": null,
            "grid_gap": null,
            "max_width": null,
            "order": null,
            "_view_module_version": "1.2.0",
            "grid_template_areas": null,
            "object_position": null,
            "object_fit": null,
            "grid_auto_columns": null,
            "margin": null,
            "display": null,
            "left": null
          }
        },
        "158ed15ed1284259b2c35dda1e46dcc7": {
          "model_module": "@jupyter-widgets/controls",
          "model_name": "LabelModel",
          "state": {
            "_view_name": "LabelView",
            "style": "IPY_MODEL_3ef2f0a086db46719bcf02a7dc128eb5",
            "_dom_classes": [],
            "description": "",
            "_model_name": "LabelModel",
            "placeholder": "​",
            "_view_module": "@jupyter-widgets/controls",
            "_model_module_version": "1.5.0",
            "value": " 308.31MB of 308.31MB uploaded (0.00MB deduped)\r",
            "_view_count": null,
            "_view_module_version": "1.5.0",
            "description_tooltip": null,
            "_model_module": "@jupyter-widgets/controls",
            "layout": "IPY_MODEL_e90edc0ec12949afa7c2e41907ce21a6"
          }
        },
        "130be735ec3e484fa6aacc9d8d7f4680": {
          "model_module": "@jupyter-widgets/controls",
          "model_name": "FloatProgressModel",
          "state": {
            "_view_name": "ProgressView",
            "style": "IPY_MODEL_39f37548f9db4dda91ea19a51c78793d",
            "_dom_classes": [],
            "description": "",
            "_model_name": "FloatProgressModel",
            "bar_style": "",
            "max": 1,
            "_view_module": "@jupyter-widgets/controls",
            "_model_module_version": "1.5.0",
            "value": 1,
            "_view_count": null,
            "_view_module_version": "1.5.0",
            "orientation": "horizontal",
            "min": 0,
            "description_tooltip": null,
            "_model_module": "@jupyter-widgets/controls",
            "layout": "IPY_MODEL_850a4aa84c0146e98e8153d75eeb6a32"
          }
        },
        "3ef2f0a086db46719bcf02a7dc128eb5": {
          "model_module": "@jupyter-widgets/controls",
          "model_name": "DescriptionStyleModel",
          "state": {
            "_view_name": "StyleView",
            "_model_name": "DescriptionStyleModel",
            "description_width": "",
            "_view_module": "@jupyter-widgets/base",
            "_model_module_version": "1.5.0",
            "_view_count": null,
            "_view_module_version": "1.2.0",
            "_model_module": "@jupyter-widgets/controls"
          }
        },
        "e90edc0ec12949afa7c2e41907ce21a6": {
          "model_module": "@jupyter-widgets/base",
          "model_name": "LayoutModel",
          "state": {
            "_view_name": "LayoutView",
            "grid_template_rows": null,
            "right": null,
            "justify_content": null,
            "_view_module": "@jupyter-widgets/base",
            "overflow": null,
            "_model_module_version": "1.2.0",
            "_view_count": null,
            "flex_flow": null,
            "width": null,
            "min_width": null,
            "border": null,
            "align_items": null,
            "bottom": null,
            "_model_module": "@jupyter-widgets/base",
            "top": null,
            "grid_column": null,
            "overflow_y": null,
            "overflow_x": null,
            "grid_auto_flow": null,
            "grid_area": null,
            "grid_template_columns": null,
            "flex": null,
            "_model_name": "LayoutModel",
            "justify_items": null,
            "grid_row": null,
            "max_height": null,
            "align_content": null,
            "visibility": null,
            "align_self": null,
            "height": null,
            "min_height": null,
            "padding": null,
            "grid_auto_rows": null,
            "grid_gap": null,
            "max_width": null,
            "order": null,
            "_view_module_version": "1.2.0",
            "grid_template_areas": null,
            "object_position": null,
            "object_fit": null,
            "grid_auto_columns": null,
            "margin": null,
            "display": null,
            "left": null
          }
        },
        "39f37548f9db4dda91ea19a51c78793d": {
          "model_module": "@jupyter-widgets/controls",
          "model_name": "ProgressStyleModel",
          "state": {
            "_view_name": "StyleView",
            "_model_name": "ProgressStyleModel",
            "description_width": "",
            "_view_module": "@jupyter-widgets/base",
            "_model_module_version": "1.5.0",
            "_view_count": null,
            "_view_module_version": "1.2.0",
            "bar_color": null,
            "_model_module": "@jupyter-widgets/controls"
          }
        },
        "850a4aa84c0146e98e8153d75eeb6a32": {
          "model_module": "@jupyter-widgets/base",
          "model_name": "LayoutModel",
          "state": {
            "_view_name": "LayoutView",
            "grid_template_rows": null,
            "right": null,
            "justify_content": null,
            "_view_module": "@jupyter-widgets/base",
            "overflow": null,
            "_model_module_version": "1.2.0",
            "_view_count": null,
            "flex_flow": null,
            "width": null,
            "min_width": null,
            "border": null,
            "align_items": null,
            "bottom": null,
            "_model_module": "@jupyter-widgets/base",
            "top": null,
            "grid_column": null,
            "overflow_y": null,
            "overflow_x": null,
            "grid_auto_flow": null,
            "grid_area": null,
            "grid_template_columns": null,
            "flex": null,
            "_model_name": "LayoutModel",
            "justify_items": null,
            "grid_row": null,
            "max_height": null,
            "align_content": null,
            "visibility": null,
            "align_self": null,
            "height": null,
            "min_height": null,
            "padding": null,
            "grid_auto_rows": null,
            "grid_gap": null,
            "max_width": null,
            "order": null,
            "_view_module_version": "1.2.0",
            "grid_template_areas": null,
            "object_position": null,
            "object_fit": null,
            "grid_auto_columns": null,
            "margin": null,
            "display": null,
            "left": null
          }
        },
        "6483dc423c5843adb990af663d3aec10": {
          "model_module": "@jupyter-widgets/controls",
          "model_name": "VBoxModel",
          "state": {
            "_view_name": "VBoxView",
            "_dom_classes": [],
            "_model_name": "VBoxModel",
            "_view_module": "@jupyter-widgets/controls",
            "_model_module_version": "1.5.0",
            "_view_count": null,
            "_view_module_version": "1.5.0",
            "box_style": "",
            "layout": "IPY_MODEL_4ace3ade2f4946c7b35c65eb62d4a6f7",
            "_model_module": "@jupyter-widgets/controls",
            "children": [
              "IPY_MODEL_a3a8d58487e844709045a6c332870f4e",
              "IPY_MODEL_ba5527efe8a44f60b756eee5447fcf7f"
            ]
          }
        },
        "4ace3ade2f4946c7b35c65eb62d4a6f7": {
          "model_module": "@jupyter-widgets/base",
          "model_name": "LayoutModel",
          "state": {
            "_view_name": "LayoutView",
            "grid_template_rows": null,
            "right": null,
            "justify_content": null,
            "_view_module": "@jupyter-widgets/base",
            "overflow": null,
            "_model_module_version": "1.2.0",
            "_view_count": null,
            "flex_flow": null,
            "width": null,
            "min_width": null,
            "border": null,
            "align_items": null,
            "bottom": null,
            "_model_module": "@jupyter-widgets/base",
            "top": null,
            "grid_column": null,
            "overflow_y": null,
            "overflow_x": null,
            "grid_auto_flow": null,
            "grid_area": null,
            "grid_template_columns": null,
            "flex": null,
            "_model_name": "LayoutModel",
            "justify_items": null,
            "grid_row": null,
            "max_height": null,
            "align_content": null,
            "visibility": null,
            "align_self": null,
            "height": null,
            "min_height": null,
            "padding": null,
            "grid_auto_rows": null,
            "grid_gap": null,
            "max_width": null,
            "order": null,
            "_view_module_version": "1.2.0",
            "grid_template_areas": null,
            "object_position": null,
            "object_fit": null,
            "grid_auto_columns": null,
            "margin": null,
            "display": null,
            "left": null
          }
        },
        "a3a8d58487e844709045a6c332870f4e": {
          "model_module": "@jupyter-widgets/controls",
          "model_name": "LabelModel",
          "state": {
            "_view_name": "LabelView",
            "style": "IPY_MODEL_e7494379c29540ed8b439b1db6e4436e",
            "_dom_classes": [],
            "description": "",
            "_model_name": "LabelModel",
            "placeholder": "​",
            "_view_module": "@jupyter-widgets/controls",
            "_model_module_version": "1.5.0",
            "value": " 272.06MB of 272.06MB uploaded (0.00MB deduped)\r",
            "_view_count": null,
            "_view_module_version": "1.5.0",
            "description_tooltip": null,
            "_model_module": "@jupyter-widgets/controls",
            "layout": "IPY_MODEL_0551eb10cde640108563c2a30a9d4766"
          }
        },
        "ba5527efe8a44f60b756eee5447fcf7f": {
          "model_module": "@jupyter-widgets/controls",
          "model_name": "FloatProgressModel",
          "state": {
            "_view_name": "ProgressView",
            "style": "IPY_MODEL_52dc3bd4c1a04e7e953429e4b73b7279",
            "_dom_classes": [],
            "description": "",
            "_model_name": "FloatProgressModel",
            "bar_style": "",
            "max": 1,
            "_view_module": "@jupyter-widgets/controls",
            "_model_module_version": "1.5.0",
            "value": 1,
            "_view_count": null,
            "_view_module_version": "1.5.0",
            "orientation": "horizontal",
            "min": 0,
            "description_tooltip": null,
            "_model_module": "@jupyter-widgets/controls",
            "layout": "IPY_MODEL_6dacdf3ca86241a8965c4b4352dd7425"
          }
        },
        "e7494379c29540ed8b439b1db6e4436e": {
          "model_module": "@jupyter-widgets/controls",
          "model_name": "DescriptionStyleModel",
          "state": {
            "_view_name": "StyleView",
            "_model_name": "DescriptionStyleModel",
            "description_width": "",
            "_view_module": "@jupyter-widgets/base",
            "_model_module_version": "1.5.0",
            "_view_count": null,
            "_view_module_version": "1.2.0",
            "_model_module": "@jupyter-widgets/controls"
          }
        },
        "0551eb10cde640108563c2a30a9d4766": {
          "model_module": "@jupyter-widgets/base",
          "model_name": "LayoutModel",
          "state": {
            "_view_name": "LayoutView",
            "grid_template_rows": null,
            "right": null,
            "justify_content": null,
            "_view_module": "@jupyter-widgets/base",
            "overflow": null,
            "_model_module_version": "1.2.0",
            "_view_count": null,
            "flex_flow": null,
            "width": null,
            "min_width": null,
            "border": null,
            "align_items": null,
            "bottom": null,
            "_model_module": "@jupyter-widgets/base",
            "top": null,
            "grid_column": null,
            "overflow_y": null,
            "overflow_x": null,
            "grid_auto_flow": null,
            "grid_area": null,
            "grid_template_columns": null,
            "flex": null,
            "_model_name": "LayoutModel",
            "justify_items": null,
            "grid_row": null,
            "max_height": null,
            "align_content": null,
            "visibility": null,
            "align_self": null,
            "height": null,
            "min_height": null,
            "padding": null,
            "grid_auto_rows": null,
            "grid_gap": null,
            "max_width": null,
            "order": null,
            "_view_module_version": "1.2.0",
            "grid_template_areas": null,
            "object_position": null,
            "object_fit": null,
            "grid_auto_columns": null,
            "margin": null,
            "display": null,
            "left": null
          }
        },
        "52dc3bd4c1a04e7e953429e4b73b7279": {
          "model_module": "@jupyter-widgets/controls",
          "model_name": "ProgressStyleModel",
          "state": {
            "_view_name": "StyleView",
            "_model_name": "ProgressStyleModel",
            "description_width": "",
            "_view_module": "@jupyter-widgets/base",
            "_model_module_version": "1.5.0",
            "_view_count": null,
            "_view_module_version": "1.2.0",
            "bar_color": null,
            "_model_module": "@jupyter-widgets/controls"
          }
        },
        "6dacdf3ca86241a8965c4b4352dd7425": {
          "model_module": "@jupyter-widgets/base",
          "model_name": "LayoutModel",
          "state": {
            "_view_name": "LayoutView",
            "grid_template_rows": null,
            "right": null,
            "justify_content": null,
            "_view_module": "@jupyter-widgets/base",
            "overflow": null,
            "_model_module_version": "1.2.0",
            "_view_count": null,
            "flex_flow": null,
            "width": null,
            "min_width": null,
            "border": null,
            "align_items": null,
            "bottom": null,
            "_model_module": "@jupyter-widgets/base",
            "top": null,
            "grid_column": null,
            "overflow_y": null,
            "overflow_x": null,
            "grid_auto_flow": null,
            "grid_area": null,
            "grid_template_columns": null,
            "flex": null,
            "_model_name": "LayoutModel",
            "justify_items": null,
            "grid_row": null,
            "max_height": null,
            "align_content": null,
            "visibility": null,
            "align_self": null,
            "height": null,
            "min_height": null,
            "padding": null,
            "grid_auto_rows": null,
            "grid_gap": null,
            "max_width": null,
            "order": null,
            "_view_module_version": "1.2.0",
            "grid_template_areas": null,
            "object_position": null,
            "object_fit": null,
            "grid_auto_columns": null,
            "margin": null,
            "display": null,
            "left": null
          }
        },
        "f14475954cdc48e196df8690cb137fed": {
          "model_module": "@jupyter-widgets/controls",
          "model_name": "VBoxModel",
          "state": {
            "_view_name": "VBoxView",
            "_dom_classes": [],
            "_model_name": "VBoxModel",
            "_view_module": "@jupyter-widgets/controls",
            "_model_module_version": "1.5.0",
            "_view_count": null,
            "_view_module_version": "1.5.0",
            "box_style": "",
            "layout": "IPY_MODEL_a85d6b303d1f420abe62ad82fce59d67",
            "_model_module": "@jupyter-widgets/controls",
            "children": [
              "IPY_MODEL_2806aabbc5a047e6a6e80a58fd84ad29",
              "IPY_MODEL_9858654605bc4c0caac5347d637a852c"
            ]
          }
        },
        "a85d6b303d1f420abe62ad82fce59d67": {
          "model_module": "@jupyter-widgets/base",
          "model_name": "LayoutModel",
          "state": {
            "_view_name": "LayoutView",
            "grid_template_rows": null,
            "right": null,
            "justify_content": null,
            "_view_module": "@jupyter-widgets/base",
            "overflow": null,
            "_model_module_version": "1.2.0",
            "_view_count": null,
            "flex_flow": null,
            "width": null,
            "min_width": null,
            "border": null,
            "align_items": null,
            "bottom": null,
            "_model_module": "@jupyter-widgets/base",
            "top": null,
            "grid_column": null,
            "overflow_y": null,
            "overflow_x": null,
            "grid_auto_flow": null,
            "grid_area": null,
            "grid_template_columns": null,
            "flex": null,
            "_model_name": "LayoutModel",
            "justify_items": null,
            "grid_row": null,
            "max_height": null,
            "align_content": null,
            "visibility": null,
            "align_self": null,
            "height": null,
            "min_height": null,
            "padding": null,
            "grid_auto_rows": null,
            "grid_gap": null,
            "max_width": null,
            "order": null,
            "_view_module_version": "1.2.0",
            "grid_template_areas": null,
            "object_position": null,
            "object_fit": null,
            "grid_auto_columns": null,
            "margin": null,
            "display": null,
            "left": null
          }
        },
        "2806aabbc5a047e6a6e80a58fd84ad29": {
          "model_module": "@jupyter-widgets/controls",
          "model_name": "LabelModel",
          "state": {
            "_view_name": "LabelView",
            "style": "IPY_MODEL_7979c234beb04c73893351b2e040cc8c",
            "_dom_classes": [],
            "description": "",
            "_model_name": "LabelModel",
            "placeholder": "​",
            "_view_module": "@jupyter-widgets/controls",
            "_model_module_version": "1.5.0",
            "value": " 326.54MB of 326.54MB uploaded (0.00MB deduped)\r",
            "_view_count": null,
            "_view_module_version": "1.5.0",
            "description_tooltip": null,
            "_model_module": "@jupyter-widgets/controls",
            "layout": "IPY_MODEL_2d6fe7743fc547ef9fd6a7e6b68efc1e"
          }
        },
        "9858654605bc4c0caac5347d637a852c": {
          "model_module": "@jupyter-widgets/controls",
          "model_name": "FloatProgressModel",
          "state": {
            "_view_name": "ProgressView",
            "style": "IPY_MODEL_818ee278911342e28455eaad76123793",
            "_dom_classes": [],
            "description": "",
            "_model_name": "FloatProgressModel",
            "bar_style": "",
            "max": 1,
            "_view_module": "@jupyter-widgets/controls",
            "_model_module_version": "1.5.0",
            "value": 1,
            "_view_count": null,
            "_view_module_version": "1.5.0",
            "orientation": "horizontal",
            "min": 0,
            "description_tooltip": null,
            "_model_module": "@jupyter-widgets/controls",
            "layout": "IPY_MODEL_16bfe31b6bb64607b6f240ebfffd85c2"
          }
        },
        "7979c234beb04c73893351b2e040cc8c": {
          "model_module": "@jupyter-widgets/controls",
          "model_name": "DescriptionStyleModel",
          "state": {
            "_view_name": "StyleView",
            "_model_name": "DescriptionStyleModel",
            "description_width": "",
            "_view_module": "@jupyter-widgets/base",
            "_model_module_version": "1.5.0",
            "_view_count": null,
            "_view_module_version": "1.2.0",
            "_model_module": "@jupyter-widgets/controls"
          }
        },
        "2d6fe7743fc547ef9fd6a7e6b68efc1e": {
          "model_module": "@jupyter-widgets/base",
          "model_name": "LayoutModel",
          "state": {
            "_view_name": "LayoutView",
            "grid_template_rows": null,
            "right": null,
            "justify_content": null,
            "_view_module": "@jupyter-widgets/base",
            "overflow": null,
            "_model_module_version": "1.2.0",
            "_view_count": null,
            "flex_flow": null,
            "width": null,
            "min_width": null,
            "border": null,
            "align_items": null,
            "bottom": null,
            "_model_module": "@jupyter-widgets/base",
            "top": null,
            "grid_column": null,
            "overflow_y": null,
            "overflow_x": null,
            "grid_auto_flow": null,
            "grid_area": null,
            "grid_template_columns": null,
            "flex": null,
            "_model_name": "LayoutModel",
            "justify_items": null,
            "grid_row": null,
            "max_height": null,
            "align_content": null,
            "visibility": null,
            "align_self": null,
            "height": null,
            "min_height": null,
            "padding": null,
            "grid_auto_rows": null,
            "grid_gap": null,
            "max_width": null,
            "order": null,
            "_view_module_version": "1.2.0",
            "grid_template_areas": null,
            "object_position": null,
            "object_fit": null,
            "grid_auto_columns": null,
            "margin": null,
            "display": null,
            "left": null
          }
        },
        "818ee278911342e28455eaad76123793": {
          "model_module": "@jupyter-widgets/controls",
          "model_name": "ProgressStyleModel",
          "state": {
            "_view_name": "StyleView",
            "_model_name": "ProgressStyleModel",
            "description_width": "",
            "_view_module": "@jupyter-widgets/base",
            "_model_module_version": "1.5.0",
            "_view_count": null,
            "_view_module_version": "1.2.0",
            "bar_color": null,
            "_model_module": "@jupyter-widgets/controls"
          }
        },
        "16bfe31b6bb64607b6f240ebfffd85c2": {
          "model_module": "@jupyter-widgets/base",
          "model_name": "LayoutModel",
          "state": {
            "_view_name": "LayoutView",
            "grid_template_rows": null,
            "right": null,
            "justify_content": null,
            "_view_module": "@jupyter-widgets/base",
            "overflow": null,
            "_model_module_version": "1.2.0",
            "_view_count": null,
            "flex_flow": null,
            "width": null,
            "min_width": null,
            "border": null,
            "align_items": null,
            "bottom": null,
            "_model_module": "@jupyter-widgets/base",
            "top": null,
            "grid_column": null,
            "overflow_y": null,
            "overflow_x": null,
            "grid_auto_flow": null,
            "grid_area": null,
            "grid_template_columns": null,
            "flex": null,
            "_model_name": "LayoutModel",
            "justify_items": null,
            "grid_row": null,
            "max_height": null,
            "align_content": null,
            "visibility": null,
            "align_self": null,
            "height": null,
            "min_height": null,
            "padding": null,
            "grid_auto_rows": null,
            "grid_gap": null,
            "max_width": null,
            "order": null,
            "_view_module_version": "1.2.0",
            "grid_template_areas": null,
            "object_position": null,
            "object_fit": null,
            "grid_auto_columns": null,
            "margin": null,
            "display": null,
            "left": null
          }
        },
        "ac5441e853e740dd8a232cd1580a3e9f": {
          "model_module": "@jupyter-widgets/controls",
          "model_name": "VBoxModel",
          "state": {
            "_view_name": "VBoxView",
            "_dom_classes": [],
            "_model_name": "VBoxModel",
            "_view_module": "@jupyter-widgets/controls",
            "_model_module_version": "1.5.0",
            "_view_count": null,
            "_view_module_version": "1.5.0",
            "box_style": "",
            "layout": "IPY_MODEL_c8af98e63d2a48c392e24d2d2183a1e2",
            "_model_module": "@jupyter-widgets/controls",
            "children": [
              "IPY_MODEL_9af0dfdd48254fecb1ef9a26d480e9f2",
              "IPY_MODEL_511534ca1ec54cca9de0f06a07e0c78a"
            ]
          }
        },
        "c8af98e63d2a48c392e24d2d2183a1e2": {
          "model_module": "@jupyter-widgets/base",
          "model_name": "LayoutModel",
          "state": {
            "_view_name": "LayoutView",
            "grid_template_rows": null,
            "right": null,
            "justify_content": null,
            "_view_module": "@jupyter-widgets/base",
            "overflow": null,
            "_model_module_version": "1.2.0",
            "_view_count": null,
            "flex_flow": null,
            "width": null,
            "min_width": null,
            "border": null,
            "align_items": null,
            "bottom": null,
            "_model_module": "@jupyter-widgets/base",
            "top": null,
            "grid_column": null,
            "overflow_y": null,
            "overflow_x": null,
            "grid_auto_flow": null,
            "grid_area": null,
            "grid_template_columns": null,
            "flex": null,
            "_model_name": "LayoutModel",
            "justify_items": null,
            "grid_row": null,
            "max_height": null,
            "align_content": null,
            "visibility": null,
            "align_self": null,
            "height": null,
            "min_height": null,
            "padding": null,
            "grid_auto_rows": null,
            "grid_gap": null,
            "max_width": null,
            "order": null,
            "_view_module_version": "1.2.0",
            "grid_template_areas": null,
            "object_position": null,
            "object_fit": null,
            "grid_auto_columns": null,
            "margin": null,
            "display": null,
            "left": null
          }
        },
        "9af0dfdd48254fecb1ef9a26d480e9f2": {
          "model_module": "@jupyter-widgets/controls",
          "model_name": "LabelModel",
          "state": {
            "_view_name": "LabelView",
            "style": "IPY_MODEL_9a3f0cf6d0004399bc244cc3a21ac883",
            "_dom_classes": [],
            "description": "",
            "_model_name": "LabelModel",
            "placeholder": "​",
            "_view_module": "@jupyter-widgets/controls",
            "_model_module_version": "1.5.0",
            "value": " 289.65MB of 289.65MB uploaded (0.00MB deduped)\r",
            "_view_count": null,
            "_view_module_version": "1.5.0",
            "description_tooltip": null,
            "_model_module": "@jupyter-widgets/controls",
            "layout": "IPY_MODEL_125d97473dff4d269b4972f4622165e4"
          }
        },
        "511534ca1ec54cca9de0f06a07e0c78a": {
          "model_module": "@jupyter-widgets/controls",
          "model_name": "FloatProgressModel",
          "state": {
            "_view_name": "ProgressView",
            "style": "IPY_MODEL_f561479d7c24453a89740bab71c82ab9",
            "_dom_classes": [],
            "description": "",
            "_model_name": "FloatProgressModel",
            "bar_style": "",
            "max": 1,
            "_view_module": "@jupyter-widgets/controls",
            "_model_module_version": "1.5.0",
            "value": 1,
            "_view_count": null,
            "_view_module_version": "1.5.0",
            "orientation": "horizontal",
            "min": 0,
            "description_tooltip": null,
            "_model_module": "@jupyter-widgets/controls",
            "layout": "IPY_MODEL_69e881f4a14d40109157848ea2756462"
          }
        },
        "9a3f0cf6d0004399bc244cc3a21ac883": {
          "model_module": "@jupyter-widgets/controls",
          "model_name": "DescriptionStyleModel",
          "state": {
            "_view_name": "StyleView",
            "_model_name": "DescriptionStyleModel",
            "description_width": "",
            "_view_module": "@jupyter-widgets/base",
            "_model_module_version": "1.5.0",
            "_view_count": null,
            "_view_module_version": "1.2.0",
            "_model_module": "@jupyter-widgets/controls"
          }
        },
        "125d97473dff4d269b4972f4622165e4": {
          "model_module": "@jupyter-widgets/base",
          "model_name": "LayoutModel",
          "state": {
            "_view_name": "LayoutView",
            "grid_template_rows": null,
            "right": null,
            "justify_content": null,
            "_view_module": "@jupyter-widgets/base",
            "overflow": null,
            "_model_module_version": "1.2.0",
            "_view_count": null,
            "flex_flow": null,
            "width": null,
            "min_width": null,
            "border": null,
            "align_items": null,
            "bottom": null,
            "_model_module": "@jupyter-widgets/base",
            "top": null,
            "grid_column": null,
            "overflow_y": null,
            "overflow_x": null,
            "grid_auto_flow": null,
            "grid_area": null,
            "grid_template_columns": null,
            "flex": null,
            "_model_name": "LayoutModel",
            "justify_items": null,
            "grid_row": null,
            "max_height": null,
            "align_content": null,
            "visibility": null,
            "align_self": null,
            "height": null,
            "min_height": null,
            "padding": null,
            "grid_auto_rows": null,
            "grid_gap": null,
            "max_width": null,
            "order": null,
            "_view_module_version": "1.2.0",
            "grid_template_areas": null,
            "object_position": null,
            "object_fit": null,
            "grid_auto_columns": null,
            "margin": null,
            "display": null,
            "left": null
          }
        },
        "f561479d7c24453a89740bab71c82ab9": {
          "model_module": "@jupyter-widgets/controls",
          "model_name": "ProgressStyleModel",
          "state": {
            "_view_name": "StyleView",
            "_model_name": "ProgressStyleModel",
            "description_width": "",
            "_view_module": "@jupyter-widgets/base",
            "_model_module_version": "1.5.0",
            "_view_count": null,
            "_view_module_version": "1.2.0",
            "bar_color": null,
            "_model_module": "@jupyter-widgets/controls"
          }
        },
        "69e881f4a14d40109157848ea2756462": {
          "model_module": "@jupyter-widgets/base",
          "model_name": "LayoutModel",
          "state": {
            "_view_name": "LayoutView",
            "grid_template_rows": null,
            "right": null,
            "justify_content": null,
            "_view_module": "@jupyter-widgets/base",
            "overflow": null,
            "_model_module_version": "1.2.0",
            "_view_count": null,
            "flex_flow": null,
            "width": null,
            "min_width": null,
            "border": null,
            "align_items": null,
            "bottom": null,
            "_model_module": "@jupyter-widgets/base",
            "top": null,
            "grid_column": null,
            "overflow_y": null,
            "overflow_x": null,
            "grid_auto_flow": null,
            "grid_area": null,
            "grid_template_columns": null,
            "flex": null,
            "_model_name": "LayoutModel",
            "justify_items": null,
            "grid_row": null,
            "max_height": null,
            "align_content": null,
            "visibility": null,
            "align_self": null,
            "height": null,
            "min_height": null,
            "padding": null,
            "grid_auto_rows": null,
            "grid_gap": null,
            "max_width": null,
            "order": null,
            "_view_module_version": "1.2.0",
            "grid_template_areas": null,
            "object_position": null,
            "object_fit": null,
            "grid_auto_columns": null,
            "margin": null,
            "display": null,
            "left": null
          }
        },
        "3d042c55d3d34e058734a24ca67ea078": {
          "model_module": "@jupyter-widgets/controls",
          "model_name": "VBoxModel",
          "state": {
            "_view_name": "VBoxView",
            "_dom_classes": [],
            "_model_name": "VBoxModel",
            "_view_module": "@jupyter-widgets/controls",
            "_model_module_version": "1.5.0",
            "_view_count": null,
            "_view_module_version": "1.5.0",
            "box_style": "",
            "layout": "IPY_MODEL_0c171ec25a7541e583f104e69ed9f06a",
            "_model_module": "@jupyter-widgets/controls",
            "children": [
              "IPY_MODEL_9a78cadb484c474ca42d0e5e7f0cbdd3",
              "IPY_MODEL_ce8a7318fe0f4a6096259ab6177b27a4"
            ]
          }
        },
        "0c171ec25a7541e583f104e69ed9f06a": {
          "model_module": "@jupyter-widgets/base",
          "model_name": "LayoutModel",
          "state": {
            "_view_name": "LayoutView",
            "grid_template_rows": null,
            "right": null,
            "justify_content": null,
            "_view_module": "@jupyter-widgets/base",
            "overflow": null,
            "_model_module_version": "1.2.0",
            "_view_count": null,
            "flex_flow": null,
            "width": null,
            "min_width": null,
            "border": null,
            "align_items": null,
            "bottom": null,
            "_model_module": "@jupyter-widgets/base",
            "top": null,
            "grid_column": null,
            "overflow_y": null,
            "overflow_x": null,
            "grid_auto_flow": null,
            "grid_area": null,
            "grid_template_columns": null,
            "flex": null,
            "_model_name": "LayoutModel",
            "justify_items": null,
            "grid_row": null,
            "max_height": null,
            "align_content": null,
            "visibility": null,
            "align_self": null,
            "height": null,
            "min_height": null,
            "padding": null,
            "grid_auto_rows": null,
            "grid_gap": null,
            "max_width": null,
            "order": null,
            "_view_module_version": "1.2.0",
            "grid_template_areas": null,
            "object_position": null,
            "object_fit": null,
            "grid_auto_columns": null,
            "margin": null,
            "display": null,
            "left": null
          }
        },
        "9a78cadb484c474ca42d0e5e7f0cbdd3": {
          "model_module": "@jupyter-widgets/controls",
          "model_name": "LabelModel",
          "state": {
            "_view_name": "LabelView",
            "style": "IPY_MODEL_e7d1eb7aeaa5477d8558a8a503e4cfbf",
            "_dom_classes": [],
            "description": "",
            "_model_name": "LabelModel",
            "placeholder": "​",
            "_view_module": "@jupyter-widgets/controls",
            "_model_module_version": "1.5.0",
            "value": " 316.62MB of 316.62MB uploaded (0.00MB deduped)\r",
            "_view_count": null,
            "_view_module_version": "1.5.0",
            "description_tooltip": null,
            "_model_module": "@jupyter-widgets/controls",
            "layout": "IPY_MODEL_c9601788ae5d490fb1397f20ac8b260d"
          }
        },
        "ce8a7318fe0f4a6096259ab6177b27a4": {
          "model_module": "@jupyter-widgets/controls",
          "model_name": "FloatProgressModel",
          "state": {
            "_view_name": "ProgressView",
            "style": "IPY_MODEL_86eff9398c424391a4f92f1bc1f909b6",
            "_dom_classes": [],
            "description": "",
            "_model_name": "FloatProgressModel",
            "bar_style": "",
            "max": 1,
            "_view_module": "@jupyter-widgets/controls",
            "_model_module_version": "1.5.0",
            "value": 1,
            "_view_count": null,
            "_view_module_version": "1.5.0",
            "orientation": "horizontal",
            "min": 0,
            "description_tooltip": null,
            "_model_module": "@jupyter-widgets/controls",
            "layout": "IPY_MODEL_33a3738390604919af267e7621920d3e"
          }
        },
        "e7d1eb7aeaa5477d8558a8a503e4cfbf": {
          "model_module": "@jupyter-widgets/controls",
          "model_name": "DescriptionStyleModel",
          "state": {
            "_view_name": "StyleView",
            "_model_name": "DescriptionStyleModel",
            "description_width": "",
            "_view_module": "@jupyter-widgets/base",
            "_model_module_version": "1.5.0",
            "_view_count": null,
            "_view_module_version": "1.2.0",
            "_model_module": "@jupyter-widgets/controls"
          }
        },
        "c9601788ae5d490fb1397f20ac8b260d": {
          "model_module": "@jupyter-widgets/base",
          "model_name": "LayoutModel",
          "state": {
            "_view_name": "LayoutView",
            "grid_template_rows": null,
            "right": null,
            "justify_content": null,
            "_view_module": "@jupyter-widgets/base",
            "overflow": null,
            "_model_module_version": "1.2.0",
            "_view_count": null,
            "flex_flow": null,
            "width": null,
            "min_width": null,
            "border": null,
            "align_items": null,
            "bottom": null,
            "_model_module": "@jupyter-widgets/base",
            "top": null,
            "grid_column": null,
            "overflow_y": null,
            "overflow_x": null,
            "grid_auto_flow": null,
            "grid_area": null,
            "grid_template_columns": null,
            "flex": null,
            "_model_name": "LayoutModel",
            "justify_items": null,
            "grid_row": null,
            "max_height": null,
            "align_content": null,
            "visibility": null,
            "align_self": null,
            "height": null,
            "min_height": null,
            "padding": null,
            "grid_auto_rows": null,
            "grid_gap": null,
            "max_width": null,
            "order": null,
            "_view_module_version": "1.2.0",
            "grid_template_areas": null,
            "object_position": null,
            "object_fit": null,
            "grid_auto_columns": null,
            "margin": null,
            "display": null,
            "left": null
          }
        },
        "86eff9398c424391a4f92f1bc1f909b6": {
          "model_module": "@jupyter-widgets/controls",
          "model_name": "ProgressStyleModel",
          "state": {
            "_view_name": "StyleView",
            "_model_name": "ProgressStyleModel",
            "description_width": "",
            "_view_module": "@jupyter-widgets/base",
            "_model_module_version": "1.5.0",
            "_view_count": null,
            "_view_module_version": "1.2.0",
            "bar_color": null,
            "_model_module": "@jupyter-widgets/controls"
          }
        },
        "33a3738390604919af267e7621920d3e": {
          "model_module": "@jupyter-widgets/base",
          "model_name": "LayoutModel",
          "state": {
            "_view_name": "LayoutView",
            "grid_template_rows": null,
            "right": null,
            "justify_content": null,
            "_view_module": "@jupyter-widgets/base",
            "overflow": null,
            "_model_module_version": "1.2.0",
            "_view_count": null,
            "flex_flow": null,
            "width": null,
            "min_width": null,
            "border": null,
            "align_items": null,
            "bottom": null,
            "_model_module": "@jupyter-widgets/base",
            "top": null,
            "grid_column": null,
            "overflow_y": null,
            "overflow_x": null,
            "grid_auto_flow": null,
            "grid_area": null,
            "grid_template_columns": null,
            "flex": null,
            "_model_name": "LayoutModel",
            "justify_items": null,
            "grid_row": null,
            "max_height": null,
            "align_content": null,
            "visibility": null,
            "align_self": null,
            "height": null,
            "min_height": null,
            "padding": null,
            "grid_auto_rows": null,
            "grid_gap": null,
            "max_width": null,
            "order": null,
            "_view_module_version": "1.2.0",
            "grid_template_areas": null,
            "object_position": null,
            "object_fit": null,
            "grid_auto_columns": null,
            "margin": null,
            "display": null,
            "left": null
          }
        }
      }
    },
    "accelerator": "GPU"
  },
  "cells": [
    {
      "cell_type": "code",
      "metadata": {
        "id": "vSAapVh9lmRM"
      },
      "source": [
        "import os\n",
        "from PIL import Image\n",
        "import numpy as np\n",
        "import pickle\n",
        "\n",
        "import matplotlib.pyplot as plt\n",
        "import matplotlib.image as mpimg\n",
        "from tqdm.notebook import tqdm\n",
        "\n",
        "from keras import backend as k\n",
        "from keras.preprocessing.image import ImageDataGenerator\n",
        "from keras.models import Sequential,Model\n",
        "\n",
        "from keras.applications.vgg16 import VGG16\n",
        "from keras.applications.inception_v3 import InceptionV3\n",
        "from keras.applications.inception_resnet_v2 import InceptionResNetV2\n",
        "from keras.applications.resnet50 import ResNet50\n",
        "from keras.applications.xception import Xception\n",
        "\n",
        "\n",
        "from keras.layers import Dense,Flatten,Conv2D,MaxPooling2D,AveragePooling2D,Dropout,BatchNormalization,Activation\n",
        "from keras.activations import relu,softmax\n",
        "from keras.initializers import he_normal,glorot_normal,random_normal,glorot_uniform\n",
        "from keras.losses import categorical_crossentropy\n",
        "from keras.optimizers import Adadelta,Adam\n",
        "from keras.utils import np_utils\n",
        "\n",
        "import warnings\n",
        "warnings.filterwarnings('ignore')\n"
      ],
      "execution_count": null,
      "outputs": []
    },
    {
      "cell_type": "code",
      "metadata": {
        "colab": {
          "base_uri": "https://localhost:8080/"
        },
        "id": "yfWoEPdwV9sb",
        "outputId": "c5ce1b96-5324-47ff-d9f9-df8ca75023b7"
      },
      "source": [
        "!nvidia-smi"
      ],
      "execution_count": null,
      "outputs": [
        {
          "output_type": "stream",
          "text": [
            "Tue Apr 13 20:00:50 2021       \n",
            "+-----------------------------------------------------------------------------+\n",
            "| NVIDIA-SMI 460.67       Driver Version: 460.32.03    CUDA Version: 11.2     |\n",
            "|-------------------------------+----------------------+----------------------+\n",
            "| GPU  Name        Persistence-M| Bus-Id        Disp.A | Volatile Uncorr. ECC |\n",
            "| Fan  Temp  Perf  Pwr:Usage/Cap|         Memory-Usage | GPU-Util  Compute M. |\n",
            "|                               |                      |               MIG M. |\n",
            "|===============================+======================+======================|\n",
            "|   0  Tesla T4            Off  | 00000000:00:04.0 Off |                    0 |\n",
            "| N/A   34C    P8     9W /  70W |      0MiB / 15109MiB |      0%      Default |\n",
            "|                               |                      |                  N/A |\n",
            "+-------------------------------+----------------------+----------------------+\n",
            "                                                                               \n",
            "+-----------------------------------------------------------------------------+\n",
            "| Processes:                                                                  |\n",
            "|  GPU   GI   CI        PID   Type   Process name                  GPU Memory |\n",
            "|        ID   ID                                                   Usage      |\n",
            "|=============================================================================|\n",
            "|  No running processes found                                                 |\n",
            "+-----------------------------------------------------------------------------+\n"
          ],
          "name": "stdout"
        }
      ]
    },
    {
      "cell_type": "code",
      "metadata": {
        "colab": {
          "base_uri": "https://localhost:8080/"
        },
        "id": "FxkjNThgWX5F",
        "outputId": "9c529c06-faff-440e-a5de-fab190aca30a"
      },
      "source": [
        "! wget https://storage.googleapis.com/wandb_datasets/nature_12K.zip"
      ],
      "execution_count": null,
      "outputs": [
        {
          "output_type": "stream",
          "text": [
            "--2021-04-13 20:02:08--  https://storage.googleapis.com/wandb_datasets/nature_12K.zip\n",
            "Resolving storage.googleapis.com (storage.googleapis.com)... 173.194.203.128, 74.125.20.128, 74.125.197.128, ...\n",
            "Connecting to storage.googleapis.com (storage.googleapis.com)|173.194.203.128|:443... connected.\n",
            "HTTP request sent, awaiting response... 200 OK\n",
            "Length: 3816687935 (3.6G) [application/zip]\n",
            "Saving to: ‘nature_12K.zip’\n",
            "\n",
            "nature_12K.zip      100%[===================>]   3.55G  24.2MB/s    in 67s     \n",
            "\n",
            "2021-04-13 20:03:15 (54.5 MB/s) - ‘nature_12K.zip’ saved [3816687935/3816687935]\n",
            "\n"
          ],
          "name": "stdout"
        }
      ]
    },
    {
      "cell_type": "code",
      "metadata": {
        "id": "JCt7xkyllwO5"
      },
      "source": [
        "! unzip '/content/nature_12K.zip'"
      ],
      "execution_count": null,
      "outputs": []
    },
    {
      "cell_type": "code",
      "metadata": {
        "id": "wfXxj2rLyJ0B"
      },
      "source": [
        "class Fine_Tune:\n",
        "\n",
        "  #target_size = (w x h x channel)\n",
        "  def __init__(self,target_size, num_neurons,num_hlayers,pretrained_model,trainable_layers):\n",
        "    self.model = Sequential()\n",
        "    self.target_size = target_size\n",
        "    self.num_neurons = num_neurons\n",
        "    self.num_hlayers = num_hlayers\n",
        "    self.pretrained_model = pretrained_model\n",
        "    self.trainable_layers = trainable_layers\n",
        "\n",
        "  def BUILD_MODEL(self):\n",
        "    if (self.pretrained_model == 'InceptionV3'):\n",
        "      prt = InceptionV3(weights='imagenet',include_top=False,input_shape = self.target_size)\n",
        "      trl = 17\n",
        "      \n",
        "    elif (self.pretrained_model == 'InceptionResnetV2'):\n",
        "      prt = InceptionResNetV2(weights='imagenet',include_top=False,input_shape = self.target_size)\n",
        "      trl = 17\n",
        "\n",
        "    elif (self.pretrained_model == 'ResNet50'):\n",
        "      prt = ResNet50(weights='imagenet',include_top=False,input_shape = self.target_size)\n",
        "      trl = 10\n",
        "\n",
        "    elif (self.pretrained_model == 'Xception') :\n",
        "      prt = Xception(weights='imagenet',include_top=False,input_shape = self.target_size)\n",
        "      trl = 6\n",
        "    else:\n",
        "      raise Exception(\"this model not used!!\")\n",
        "   \n",
        "    if self.trainable_layers == 'No':\n",
        "      for layer in prt.layers:\n",
        "          layer.trainable = False\n",
        "    else:\n",
        "      for layer in prt.layers[:-1*trl]:\n",
        "          layer.trainable = False\n",
        "\n",
        "    self.model.add(prt)\n",
        "\n",
        "    #Add dense layers.. \n",
        "    self.model.add(Flatten())\n",
        "\n",
        "    for i in range(self.num_hlayers):\n",
        "      self.model.add(Dense(units = self.num_neurons))\n",
        "      self.model.add(Activation('relu'))\n",
        "\n",
        "    self.model.add(Dense(units=10))\n",
        "    self.model.add(Activation('softmax'))\n",
        "\n",
        "    self.model.compile(optimizer='Adam',loss='categorical_crossentropy',metrics=['accuracy'])\n",
        "\n",
        "    return\n",
        "\n",
        "\n",
        "  def Fit_Model(self,train_path,epochs,batch_size):\n",
        "    tr_datagen = ImageDataGenerator(rescale=1./255,\n",
        "                                    shear_range=0.2,\n",
        "                                    horizontal_flip=True,\n",
        "                                    validation_split = 0.2)\n",
        "\n",
        "    tr_gen = tr_datagen.flow_from_directory(\n",
        "            directory = train_path,target_size = self.target_size[:2],color_mode = 'rgb',       \n",
        "            batch_size = batch_size,\n",
        "            class_mode = 'categorical',\n",
        "            shuffle = True,\n",
        "            seed = 10,\n",
        "            subset = 'training'\n",
        "            )\n",
        "\n",
        "    val_gen = tr_datagen.flow_from_directory(\n",
        "            directory = train_path,target_size = self.target_size[:2],color_mode = 'rgb',\n",
        "            batch_size = batch_size,\n",
        "            class_mode = 'categorical',\n",
        "            shuffle = True,\n",
        "            seed = 10,\n",
        "            subset = 'validation'\n",
        "            ) \n",
        "   \n",
        "    step_size_train = tr_gen.n//tr_gen.batch_size\n",
        "    step_size_valid = val_gen.n//val_gen.batch_size\n",
        "\n",
        "    self.model.fit_generator(generator = tr_gen,\n",
        "                             steps_per_epoch = step_size_train,\n",
        "                             validation_data = val_gen,\n",
        "                             validation_steps = step_size_valid,\n",
        "                             epochs = epochs,\n",
        "                            callbacks=[WandbCallback(monitor='val_accuracy',save_model=True)],\n",
        "                             verbose = 1)\n",
        "    return\n",
        "\n",
        "  def Predict_Test(self,test_path):\n",
        "\n",
        "    ts_datagen = ImageDataGenerator(rescale = 1./255)\n",
        "    test_gen = ts_datagen.flow_from_directory(\n",
        "        directory = test_path,\n",
        "        target_size = self.target_size[:2],\n",
        "        color_mode = 'rgb',\n",
        "        batch_size = 1,\n",
        "        class_mode = None,\n",
        "        shuffle = False,\n",
        "        seed=10\n",
        "        )\n",
        "    \n",
        "    step_size_test = test_gen.n//test_gen.batch_size\n",
        "    test_gen.reset()\n",
        "    print('Getting predictions for test data..')\n",
        "    pred = self.model.predict_generator(generator = test_gen,\n",
        "                                  steps = step_size_test,\n",
        "                                  verbose = 1\n",
        "                                  )\n",
        "    ytrue = test_gen.classes ; ypred = np.argmax(pred,axis=1)\n",
        "    return np.sum(ytrue == ypred)/len(ytrue)"
      ],
      "execution_count": null,
      "outputs": []
    },
    {
      "cell_type": "code",
      "metadata": {
        "colab": {
          "base_uri": "https://localhost:8080/",
          "height": 187
        },
        "id": "q9-xq6rnYQfN",
        "outputId": "6482891d-38cb-4a94-d64f-410b26d62f57"
      },
      "source": [
        "!pip install wandb -qqq\n",
        "import wandb\n",
        "wandb.login()"
      ],
      "execution_count": null,
      "outputs": [
        {
          "output_type": "stream",
          "text": [
            "\u001b[K     |████████████████████████████████| 2.1MB 18.0MB/s \n",
            "\u001b[K     |████████████████████████████████| 163kB 55.0MB/s \n",
            "\u001b[K     |████████████████████████████████| 133kB 58.7MB/s \n",
            "\u001b[K     |████████████████████████████████| 102kB 14.6MB/s \n",
            "\u001b[K     |████████████████████████████████| 71kB 11.7MB/s \n",
            "\u001b[?25h  Building wheel for pathtools (setup.py) ... \u001b[?25l\u001b[?25hdone\n",
            "  Building wheel for subprocess32 (setup.py) ... \u001b[?25l\u001b[?25hdone\n"
          ],
          "name": "stdout"
        },
        {
          "output_type": "display_data",
          "data": {
            "application/javascript": [
              "\n",
              "        window._wandbApiKey = new Promise((resolve, reject) => {\n",
              "            function loadScript(url) {\n",
              "            return new Promise(function(resolve, reject) {\n",
              "                let newScript = document.createElement(\"script\");\n",
              "                newScript.onerror = reject;\n",
              "                newScript.onload = resolve;\n",
              "                document.body.appendChild(newScript);\n",
              "                newScript.src = url;\n",
              "            });\n",
              "            }\n",
              "            loadScript(\"https://cdn.jsdelivr.net/npm/postmate/build/postmate.min.js\").then(() => {\n",
              "            const iframe = document.createElement('iframe')\n",
              "            iframe.style.cssText = \"width:0;height:0;border:none\"\n",
              "            document.body.appendChild(iframe)\n",
              "            const handshake = new Postmate({\n",
              "                container: iframe,\n",
              "                url: 'https://wandb.ai/authorize'\n",
              "            });\n",
              "            const timeout = setTimeout(() => reject(\"Couldn't auto authenticate\"), 5000)\n",
              "            handshake.then(function(child) {\n",
              "                child.on('authorize', data => {\n",
              "                    clearTimeout(timeout)\n",
              "                    resolve(data)\n",
              "                });\n",
              "            });\n",
              "            })\n",
              "        });\n",
              "    "
            ],
            "text/plain": [
              "<IPython.core.display.Javascript object>"
            ]
          },
          "metadata": {
            "tags": []
          }
        },
        {
          "output_type": "stream",
          "text": [
            "\u001b[34m\u001b[1mwandb\u001b[0m: Appending key for api.wandb.ai to your netrc file: /root/.netrc\n"
          ],
          "name": "stderr"
        },
        {
          "output_type": "execute_result",
          "data": {
            "text/plain": [
              "True"
            ]
          },
          "metadata": {
            "tags": []
          },
          "execution_count": 6
        }
      ]
    },
    {
      "cell_type": "markdown",
      "metadata": {
        "id": "YtM7z_3MiH62"
      },
      "source": [
        "**Question 2 (5 Marks)\n",
        "You will notice that InceptionV3, InceptionResNetV2, ResNet50, Xception are very huge models as compared to the simple model that you implemented in Part A. Even fine-tuning on a small training data may be very expensive. What is a common trick used to keep the training tractable (you will have to read up a bit on this)? Try different variants of this trick and fine-tune the model using the iNaturalist dataset. For example, '___'ing all layers except the last layer, '___'ing upto k layers and '___'ing the rest. Read up on pre-training and fine-tuning to understand what exactly these terms mean.**\n",
        "\n",
        "**Write down the different strategies that you tried (simple bullet points would be fine).**"
      ]
    },
    {
      "cell_type": "code",
      "metadata": {
        "colab": {
          "base_uri": "https://localhost:8080/"
        },
        "id": "N3mjIJeHYlQh",
        "outputId": "93bdc15a-4434-4e1d-f22e-dd1b87debabb"
      },
      "source": [
        "sweep_config = {\n",
        "  'name': 'Sweep for Assignment PartB',\n",
        "  'method': 'grid',\n",
        "  'metric': {\n",
        "      'name': 'accuracy',\n",
        "      'goal': 'maximize'   \n",
        "    },\n",
        "  'parameters': {\n",
        "        'num_neurons': {\n",
        "            'values': [64,128]\n",
        "        },\n",
        "        'num_hlayers':{\n",
        "            'values':[1,2]\n",
        "        },\n",
        "        'pretrained_model':{\n",
        "            'values':['InceptionV3','Xception','InceptionResnetV2','ResNet50']\n",
        "        },\n",
        "        'trainable_layers':{\n",
        "            'values':['Yes','No']\n",
        "        }\n",
        "\n",
        "    }\n",
        "}\n",
        "\n",
        "sweep_id = wandb.sweep(sweep_config, project='CNN_PartB', entity='manideepladi')"
      ],
      "execution_count": null,
      "outputs": [
        {
          "output_type": "stream",
          "text": [
            "Create sweep with ID: 8umpr1gn\n",
            "Sweep URL: https://wandb.ai/manideepladi/CNN_PartB/sweeps/8umpr1gn\n"
          ],
          "name": "stdout"
        }
      ]
    },
    {
      "cell_type": "code",
      "metadata": {
        "id": "VG8ss6kNp9Xd"
      },
      "source": [
        "import wandb\n",
        "from wandb.keras import WandbCallback"
      ],
      "execution_count": null,
      "outputs": []
    },
    {
      "cell_type": "code",
      "metadata": {
        "id": "u7uq76sYBTMM",
        "colab": {
          "base_uri": "https://localhost:8080/",
          "height": 1000,
          "referenced_widgets": [
            "8f79b386fe5c44d4affaad9a7b6e73f2",
            "355c2ebd4b3e4ebcb8fc6edd9e67ad1e",
            "158ed15ed1284259b2c35dda1e46dcc7",
            "130be735ec3e484fa6aacc9d8d7f4680",
            "3ef2f0a086db46719bcf02a7dc128eb5",
            "e90edc0ec12949afa7c2e41907ce21a6",
            "39f37548f9db4dda91ea19a51c78793d",
            "850a4aa84c0146e98e8153d75eeb6a32",
            "6483dc423c5843adb990af663d3aec10",
            "4ace3ade2f4946c7b35c65eb62d4a6f7",
            "a3a8d58487e844709045a6c332870f4e",
            "ba5527efe8a44f60b756eee5447fcf7f",
            "e7494379c29540ed8b439b1db6e4436e",
            "0551eb10cde640108563c2a30a9d4766",
            "52dc3bd4c1a04e7e953429e4b73b7279",
            "6dacdf3ca86241a8965c4b4352dd7425",
            "f14475954cdc48e196df8690cb137fed",
            "a85d6b303d1f420abe62ad82fce59d67",
            "2806aabbc5a047e6a6e80a58fd84ad29",
            "9858654605bc4c0caac5347d637a852c",
            "7979c234beb04c73893351b2e040cc8c",
            "2d6fe7743fc547ef9fd6a7e6b68efc1e",
            "818ee278911342e28455eaad76123793",
            "16bfe31b6bb64607b6f240ebfffd85c2",
            "ac5441e853e740dd8a232cd1580a3e9f",
            "c8af98e63d2a48c392e24d2d2183a1e2",
            "9af0dfdd48254fecb1ef9a26d480e9f2",
            "511534ca1ec54cca9de0f06a07e0c78a",
            "9a3f0cf6d0004399bc244cc3a21ac883",
            "125d97473dff4d269b4972f4622165e4",
            "f561479d7c24453a89740bab71c82ab9",
            "69e881f4a14d40109157848ea2756462",
            "3d042c55d3d34e058734a24ca67ea078",
            "0c171ec25a7541e583f104e69ed9f06a",
            "9a78cadb484c474ca42d0e5e7f0cbdd3",
            "ce8a7318fe0f4a6096259ab6177b27a4",
            "e7d1eb7aeaa5477d8558a8a503e4cfbf",
            "c9601788ae5d490fb1397f20ac8b260d",
            "86eff9398c424391a4f92f1bc1f909b6",
            "33a3738390604919af267e7621920d3e"
          ]
        },
        "outputId": "041386ff-7a9f-4093-8722-6238b15fa75d"
      },
      "source": [
        "def train():\n",
        "  run = wandb.init()\n",
        "  config = run.config\n",
        "\n",
        "  train_path = '/content/inaturalist_12K/train'\n",
        "\n",
        "  target_size = (256,256,3)\n",
        "\n",
        "  obj1 = Fine_Tune(target_size=target_size ,\n",
        "                   pretrained_model = config.pretrained_model,\n",
        "                   num_neurons = config.num_neurons,\n",
        "                   num_hlayers = config.num_hlayers,\n",
        "                   trainable_layers=config.trainable_layers) \n",
        "                       \n",
        "  obj1.BUILD_MODEL()\n",
        "  obj1.Fit_Model(train_path,epochs=10,batch_size=32)\n",
        "\n",
        "sweep_id=\"mbq45fhk\"\n",
        "wandb.agent(sweep_id=sweep_id, function=train )\n"
      ],
      "execution_count": null,
      "outputs": [
        {
          "output_type": "stream",
          "text": [
            "\u001b[34m\u001b[1mwandb\u001b[0m: Agent Starting Run: f511lkq6 with config:\n",
            "\u001b[34m\u001b[1mwandb\u001b[0m: \tnum_hlayers: 2\n",
            "\u001b[34m\u001b[1mwandb\u001b[0m: \tnum_neurons: 128\n",
            "\u001b[34m\u001b[1mwandb\u001b[0m: \tpretrained_model: Xception\n",
            "\u001b[34m\u001b[1mwandb\u001b[0m: \ttrainable_layers: Yes\n",
            "\u001b[34m\u001b[1mwandb\u001b[0m: Currently logged in as: \u001b[33mmanideepladi\u001b[0m (use `wandb login --relogin` to force relogin)\n"
          ],
          "name": "stderr"
        },
        {
          "output_type": "display_data",
          "data": {
            "text/html": [
              "\n",
              "                Tracking run with wandb version 0.10.25<br/>\n",
              "                Syncing run <strong style=\"color:#cdcd00\">stellar-sweep-27</strong> to <a href=\"https://wandb.ai\" target=\"_blank\">Weights & Biases</a> <a href=\"https://docs.wandb.com/integrations/jupyter.html\" target=\"_blank\">(Documentation)</a>.<br/>\n",
              "                Project page: <a href=\"https://wandb.ai/manideepladi/CNN_PartB\" target=\"_blank\">https://wandb.ai/manideepladi/CNN_PartB</a><br/>\n",
              "                Sweep page: <a href=\"https://wandb.ai/manideepladi/CNN_PartB/sweeps/mbq45fhk\" target=\"_blank\">https://wandb.ai/manideepladi/CNN_PartB/sweeps/mbq45fhk</a><br/>\n",
              "Run page: <a href=\"https://wandb.ai/manideepladi/CNN_PartB/runs/f511lkq6\" target=\"_blank\">https://wandb.ai/manideepladi/CNN_PartB/runs/f511lkq6</a><br/>\n",
              "                Run data is saved locally in <code>/content/wandb/run-20210413_045953-f511lkq6</code><br/><br/>\n",
              "            "
            ],
            "text/plain": [
              "<IPython.core.display.HTML object>"
            ]
          },
          "metadata": {
            "tags": []
          }
        },
        {
          "output_type": "stream",
          "text": [
            "Downloading data from https://storage.googleapis.com/tensorflow/keras-applications/xception/xception_weights_tf_dim_ordering_tf_kernels_notop.h5\n",
            "83689472/83683744 [==============================] - 1s 0us/step\n",
            "Found 8000 images belonging to 10 classes.\n",
            "Found 1999 images belonging to 10 classes.\n",
            "Epoch 1/10\n",
            "250/250 [==============================] - 309s 1s/step - loss: 1.4975 - accuracy: 0.6118 - val_loss: 0.8091 - val_accuracy: 0.7434\n",
            "Epoch 2/10\n",
            "250/250 [==============================] - 275s 1s/step - loss: 0.5957 - accuracy: 0.8119 - val_loss: 0.8709 - val_accuracy: 0.7485\n",
            "Epoch 3/10\n",
            "250/250 [==============================] - 264s 1s/step - loss: 0.4657 - accuracy: 0.8445 - val_loss: 0.8410 - val_accuracy: 0.7742\n",
            "Epoch 4/10\n",
            "250/250 [==============================] - 266s 1s/step - loss: 0.3256 - accuracy: 0.8961 - val_loss: 0.8842 - val_accuracy: 0.7651\n",
            "Epoch 5/10\n",
            "250/250 [==============================] - 266s 1s/step - loss: 0.2627 - accuracy: 0.9166 - val_loss: 1.0325 - val_accuracy: 0.7732\n",
            "Epoch 6/10\n",
            "250/250 [==============================] - 265s 1s/step - loss: 0.1904 - accuracy: 0.9435 - val_loss: 1.0662 - val_accuracy: 0.7646\n",
            "Epoch 7/10\n",
            "250/250 [==============================] - 264s 1s/step - loss: 0.1578 - accuracy: 0.9511 - val_loss: 1.1001 - val_accuracy: 0.7520\n",
            "Epoch 8/10\n",
            "250/250 [==============================] - 264s 1s/step - loss: 0.1264 - accuracy: 0.9617 - val_loss: 1.1324 - val_accuracy: 0.7636\n",
            "Epoch 9/10\n",
            "250/250 [==============================] - 263s 1s/step - loss: 0.1263 - accuracy: 0.9622 - val_loss: 1.2345 - val_accuracy: 0.7747\n",
            "Epoch 10/10\n",
            "250/250 [==============================] - 265s 1s/step - loss: 0.1295 - accuracy: 0.9580 - val_loss: 1.0904 - val_accuracy: 0.7752\n"
          ],
          "name": "stdout"
        },
        {
          "output_type": "display_data",
          "data": {
            "text/html": [
              "<br/>Waiting for W&B process to finish, PID 165<br/>Program ended successfully."
            ],
            "text/plain": [
              "<IPython.core.display.HTML object>"
            ]
          },
          "metadata": {
            "tags": []
          }
        },
        {
          "output_type": "display_data",
          "data": {
            "application/vnd.jupyter.widget-view+json": {
              "model_id": "8f79b386fe5c44d4affaad9a7b6e73f2",
              "version_minor": 0,
              "version_major": 2
            },
            "text/plain": [
              "VBox(children=(Label(value=' 308.30MB of 308.30MB uploaded (0.00MB deduped)\\r'), FloatProgress(value=1.0, max=…"
            ]
          },
          "metadata": {
            "tags": []
          }
        },
        {
          "output_type": "display_data",
          "data": {
            "text/html": [
              "Find user logs for this run at: <code>/content/wandb/run-20210413_045953-f511lkq6/logs/debug.log</code>"
            ],
            "text/plain": [
              "<IPython.core.display.HTML object>"
            ]
          },
          "metadata": {
            "tags": []
          }
        },
        {
          "output_type": "display_data",
          "data": {
            "text/html": [
              "Find internal logs for this run at: <code>/content/wandb/run-20210413_045953-f511lkq6/logs/debug-internal.log</code>"
            ],
            "text/plain": [
              "<IPython.core.display.HTML object>"
            ]
          },
          "metadata": {
            "tags": []
          }
        },
        {
          "output_type": "display_data",
          "data": {
            "text/html": [
              "<h3>Run summary:</h3><br/><style>\n",
              "    table.wandb td:nth-child(1) { padding: 0 10px; text-align: right }\n",
              "    </style><table class=\"wandb\">\n",
              "<tr><td>epoch</td><td>9</td></tr><tr><td>loss</td><td>0.14158</td></tr><tr><td>accuracy</td><td>0.9545</td></tr><tr><td>val_loss</td><td>1.0904</td></tr><tr><td>val_accuracy</td><td>0.7752</td></tr><tr><td>_runtime</td><td>2718</td></tr><tr><td>_timestamp</td><td>1618292711</td></tr><tr><td>_step</td><td>9</td></tr><tr><td>best_val_accuracy</td><td>0.7752</td></tr><tr><td>best_epoch</td><td>9</td></tr></table>"
            ],
            "text/plain": [
              "<IPython.core.display.HTML object>"
            ]
          },
          "metadata": {
            "tags": []
          }
        },
        {
          "output_type": "display_data",
          "data": {
            "text/html": [
              "<h3>Run history:</h3><br/><style>\n",
              "    table.wandb td:nth-child(1) { padding: 0 10px; text-align: right }\n",
              "    </style><table class=\"wandb\">\n",
              "<tr><td>epoch</td><td>▁▂▃▃▄▅▆▆▇█</td></tr><tr><td>loss</td><td>█▅▄▃▂▂▁▁▁▁</td></tr><tr><td>accuracy</td><td>▁▄▅▆▇▇████</td></tr><tr><td>val_loss</td><td>▁▂▂▂▅▅▆▆█▆</td></tr><tr><td>val_accuracy</td><td>▁▂█▆█▆▃▅██</td></tr><tr><td>_runtime</td><td>▁▂▃▃▄▅▆▆▇█</td></tr><tr><td>_timestamp</td><td>▁▂▃▃▄▅▆▆▇█</td></tr><tr><td>_step</td><td>▁▂▃▃▄▅▆▆▇█</td></tr></table><br/>"
            ],
            "text/plain": [
              "<IPython.core.display.HTML object>"
            ]
          },
          "metadata": {
            "tags": []
          }
        },
        {
          "output_type": "display_data",
          "data": {
            "text/html": [
              "Synced 5 W&B file(s), 1 media file(s), 0 artifact file(s) and 1 other file(s)"
            ],
            "text/plain": [
              "<IPython.core.display.HTML object>"
            ]
          },
          "metadata": {
            "tags": []
          }
        },
        {
          "output_type": "display_data",
          "data": {
            "text/html": [
              "\n",
              "                    <br/>Synced <strong style=\"color:#cdcd00\">stellar-sweep-27</strong>: <a href=\"https://wandb.ai/manideepladi/CNN_PartB/runs/f511lkq6\" target=\"_blank\">https://wandb.ai/manideepladi/CNN_PartB/runs/f511lkq6</a><br/>\n",
              "                "
            ],
            "text/plain": [
              "<IPython.core.display.HTML object>"
            ]
          },
          "metadata": {
            "tags": []
          }
        },
        {
          "output_type": "stream",
          "text": [
            "\u001b[34m\u001b[1mwandb\u001b[0m: Agent Starting Run: drwkrbnh with config:\n",
            "\u001b[34m\u001b[1mwandb\u001b[0m: \tnum_hlayers: 2\n",
            "\u001b[34m\u001b[1mwandb\u001b[0m: \tnum_neurons: 128\n",
            "\u001b[34m\u001b[1mwandb\u001b[0m: \tpretrained_model: Xception\n",
            "\u001b[34m\u001b[1mwandb\u001b[0m: \ttrainable_layers: No\n"
          ],
          "name": "stderr"
        },
        {
          "output_type": "display_data",
          "data": {
            "text/html": [
              "\n",
              "                Tracking run with wandb version 0.10.25<br/>\n",
              "                Syncing run <strong style=\"color:#cdcd00\">cosmic-sweep-28</strong> to <a href=\"https://wandb.ai\" target=\"_blank\">Weights & Biases</a> <a href=\"https://docs.wandb.com/integrations/jupyter.html\" target=\"_blank\">(Documentation)</a>.<br/>\n",
              "                Project page: <a href=\"https://wandb.ai/manideepladi/CNN_PartB\" target=\"_blank\">https://wandb.ai/manideepladi/CNN_PartB</a><br/>\n",
              "                Sweep page: <a href=\"https://wandb.ai/manideepladi/CNN_PartB/sweeps/mbq45fhk\" target=\"_blank\">https://wandb.ai/manideepladi/CNN_PartB/sweeps/mbq45fhk</a><br/>\n",
              "Run page: <a href=\"https://wandb.ai/manideepladi/CNN_PartB/runs/drwkrbnh\" target=\"_blank\">https://wandb.ai/manideepladi/CNN_PartB/runs/drwkrbnh</a><br/>\n",
              "                Run data is saved locally in <code>/content/wandb/run-20210413_054523-drwkrbnh</code><br/><br/>\n",
              "            "
            ],
            "text/plain": [
              "<IPython.core.display.HTML object>"
            ]
          },
          "metadata": {
            "tags": []
          }
        },
        {
          "output_type": "stream",
          "text": [
            "Found 8000 images belonging to 10 classes.\n",
            "Found 1999 images belonging to 10 classes.\n",
            "Epoch 1/10\n",
            "250/250 [==============================] - 266s 1s/step - loss: 2.6495 - accuracy: 0.5627 - val_loss: 0.9115 - val_accuracy: 0.7182\n",
            "Epoch 2/10\n",
            "250/250 [==============================] - 262s 1s/step - loss: 0.7702 - accuracy: 0.7573 - val_loss: 1.0412 - val_accuracy: 0.7147\n",
            "Epoch 3/10\n",
            "250/250 [==============================] - 261s 1s/step - loss: 0.6162 - accuracy: 0.7999 - val_loss: 0.9337 - val_accuracy: 0.7198\n",
            "Epoch 4/10\n",
            "250/250 [==============================] - 262s 1s/step - loss: 0.5131 - accuracy: 0.8373 - val_loss: 0.9037 - val_accuracy: 0.7460\n",
            "Epoch 5/10\n",
            "250/250 [==============================] - 263s 1s/step - loss: 0.4062 - accuracy: 0.8666 - val_loss: 0.9650 - val_accuracy: 0.7495\n",
            "Epoch 6/10\n",
            "250/250 [==============================] - 262s 1s/step - loss: 0.3584 - accuracy: 0.8863 - val_loss: 1.0660 - val_accuracy: 0.7399\n",
            "Epoch 7/10\n",
            "250/250 [==============================] - 261s 1s/step - loss: 0.3326 - accuracy: 0.8936 - val_loss: 1.1542 - val_accuracy: 0.7429\n",
            "Epoch 8/10\n",
            "250/250 [==============================] - 260s 1s/step - loss: 0.2815 - accuracy: 0.9074 - val_loss: 1.1939 - val_accuracy: 0.7515\n",
            "Epoch 9/10\n",
            "250/250 [==============================] - 260s 1s/step - loss: 0.2134 - accuracy: 0.9289 - val_loss: 1.2796 - val_accuracy: 0.7379\n",
            "Epoch 10/10\n",
            "250/250 [==============================] - 261s 1s/step - loss: 0.2542 - accuracy: 0.9208 - val_loss: 1.2396 - val_accuracy: 0.7510\n"
          ],
          "name": "stdout"
        },
        {
          "output_type": "display_data",
          "data": {
            "text/html": [
              "<br/>Waiting for W&B process to finish, PID 393<br/>Program ended successfully."
            ],
            "text/plain": [
              "<IPython.core.display.HTML object>"
            ]
          },
          "metadata": {
            "tags": []
          }
        },
        {
          "output_type": "display_data",
          "data": {
            "application/vnd.jupyter.widget-view+json": {
              "model_id": "6483dc423c5843adb990af663d3aec10",
              "version_minor": 0,
              "version_major": 2
            },
            "text/plain": [
              "VBox(children=(Label(value=' 272.05MB of 272.05MB uploaded (0.00MB deduped)\\r'), FloatProgress(value=1.0, max=…"
            ]
          },
          "metadata": {
            "tags": []
          }
        },
        {
          "output_type": "display_data",
          "data": {
            "text/html": [
              "Find user logs for this run at: <code>/content/wandb/run-20210413_054523-drwkrbnh/logs/debug.log</code>"
            ],
            "text/plain": [
              "<IPython.core.display.HTML object>"
            ]
          },
          "metadata": {
            "tags": []
          }
        },
        {
          "output_type": "display_data",
          "data": {
            "text/html": [
              "Find internal logs for this run at: <code>/content/wandb/run-20210413_054523-drwkrbnh/logs/debug-internal.log</code>"
            ],
            "text/plain": [
              "<IPython.core.display.HTML object>"
            ]
          },
          "metadata": {
            "tags": []
          }
        },
        {
          "output_type": "display_data",
          "data": {
            "text/html": [
              "<h3>Run summary:</h3><br/><style>\n",
              "    table.wandb td:nth-child(1) { padding: 0 10px; text-align: right }\n",
              "    </style><table class=\"wandb\">\n",
              "<tr><td>epoch</td><td>9</td></tr><tr><td>loss</td><td>0.26223</td></tr><tr><td>accuracy</td><td>0.91462</td></tr><tr><td>val_loss</td><td>1.23965</td></tr><tr><td>val_accuracy</td><td>0.75101</td></tr><tr><td>_runtime</td><td>2632</td></tr><tr><td>_timestamp</td><td>1618295355</td></tr><tr><td>_step</td><td>9</td></tr><tr><td>best_val_accuracy</td><td>0.75151</td></tr><tr><td>best_epoch</td><td>7</td></tr></table>"
            ],
            "text/plain": [
              "<IPython.core.display.HTML object>"
            ]
          },
          "metadata": {
            "tags": []
          }
        },
        {
          "output_type": "display_data",
          "data": {
            "text/html": [
              "<h3>Run history:</h3><br/><style>\n",
              "    table.wandb td:nth-child(1) { padding: 0 10px; text-align: right }\n",
              "    </style><table class=\"wandb\">\n",
              "<tr><td>epoch</td><td>▁▂▃▃▄▅▆▆▇█</td></tr><tr><td>loss</td><td>█▄▃▃▂▂▂▁▁▁</td></tr><tr><td>accuracy</td><td>▁▄▅▆▆▇▇███</td></tr><tr><td>val_loss</td><td>▁▄▂▁▂▄▆▆█▇</td></tr><tr><td>val_accuracy</td><td>▂▁▂▇█▆▆█▅█</td></tr><tr><td>_runtime</td><td>▁▂▃▃▄▅▆▆▇█</td></tr><tr><td>_timestamp</td><td>▁▂▃▃▄▅▆▆▇█</td></tr><tr><td>_step</td><td>▁▂▃▃▄▅▆▆▇█</td></tr></table><br/>"
            ],
            "text/plain": [
              "<IPython.core.display.HTML object>"
            ]
          },
          "metadata": {
            "tags": []
          }
        },
        {
          "output_type": "display_data",
          "data": {
            "text/html": [
              "Synced 5 W&B file(s), 1 media file(s), 0 artifact file(s) and 1 other file(s)"
            ],
            "text/plain": [
              "<IPython.core.display.HTML object>"
            ]
          },
          "metadata": {
            "tags": []
          }
        },
        {
          "output_type": "display_data",
          "data": {
            "text/html": [
              "\n",
              "                    <br/>Synced <strong style=\"color:#cdcd00\">cosmic-sweep-28</strong>: <a href=\"https://wandb.ai/manideepladi/CNN_PartB/runs/drwkrbnh\" target=\"_blank\">https://wandb.ai/manideepladi/CNN_PartB/runs/drwkrbnh</a><br/>\n",
              "                "
            ],
            "text/plain": [
              "<IPython.core.display.HTML object>"
            ]
          },
          "metadata": {
            "tags": []
          }
        },
        {
          "output_type": "stream",
          "text": [
            "\u001b[34m\u001b[1mwandb\u001b[0m: Agent Starting Run: j2kql2in with config:\n",
            "\u001b[34m\u001b[1mwandb\u001b[0m: \tnum_hlayers: 2\n",
            "\u001b[34m\u001b[1mwandb\u001b[0m: \tnum_neurons: 128\n",
            "\u001b[34m\u001b[1mwandb\u001b[0m: \tpretrained_model: InceptionResnetV2\n",
            "\u001b[34m\u001b[1mwandb\u001b[0m: \ttrainable_layers: Yes\n"
          ],
          "name": "stderr"
        },
        {
          "output_type": "display_data",
          "data": {
            "text/html": [
              "\n",
              "                Tracking run with wandb version 0.10.25<br/>\n",
              "                Syncing run <strong style=\"color:#cdcd00\">glorious-sweep-29</strong> to <a href=\"https://wandb.ai\" target=\"_blank\">Weights & Biases</a> <a href=\"https://docs.wandb.com/integrations/jupyter.html\" target=\"_blank\">(Documentation)</a>.<br/>\n",
              "                Project page: <a href=\"https://wandb.ai/manideepladi/CNN_PartB\" target=\"_blank\">https://wandb.ai/manideepladi/CNN_PartB</a><br/>\n",
              "                Sweep page: <a href=\"https://wandb.ai/manideepladi/CNN_PartB/sweeps/mbq45fhk\" target=\"_blank\">https://wandb.ai/manideepladi/CNN_PartB/sweeps/mbq45fhk</a><br/>\n",
              "Run page: <a href=\"https://wandb.ai/manideepladi/CNN_PartB/runs/j2kql2in\" target=\"_blank\">https://wandb.ai/manideepladi/CNN_PartB/runs/j2kql2in</a><br/>\n",
              "                Run data is saved locally in <code>/content/wandb/run-20210413_062927-j2kql2in</code><br/><br/>\n",
              "            "
            ],
            "text/plain": [
              "<IPython.core.display.HTML object>"
            ]
          },
          "metadata": {
            "tags": []
          }
        },
        {
          "output_type": "stream",
          "text": [
            "Downloading data from https://storage.googleapis.com/tensorflow/keras-applications/inception_resnet_v2/inception_resnet_v2_weights_tf_dim_ordering_tf_kernels_notop.h5\n",
            "219062272/219055592 [==============================] - 2s 0us/step\n",
            "Found 8000 images belonging to 10 classes.\n",
            "Found 1999 images belonging to 10 classes.\n",
            "Epoch 1/10\n",
            "250/250 [==============================] - 285s 1s/step - loss: 1.7849 - accuracy: 0.6203 - val_loss: 0.8334 - val_accuracy: 0.7641\n",
            "Epoch 2/10\n",
            "250/250 [==============================] - 269s 1s/step - loss: 0.5995 - accuracy: 0.8095 - val_loss: 0.9946 - val_accuracy: 0.7288\n",
            "Epoch 3/10\n",
            "250/250 [==============================] - 270s 1s/step - loss: 0.4940 - accuracy: 0.8426 - val_loss: 1.0243 - val_accuracy: 0.7440\n",
            "Epoch 4/10\n",
            "250/250 [==============================] - 270s 1s/step - loss: 0.4145 - accuracy: 0.8672 - val_loss: 1.5887 - val_accuracy: 0.7223\n",
            "Epoch 5/10\n",
            "250/250 [==============================] - 271s 1s/step - loss: 0.3504 - accuracy: 0.8864 - val_loss: 0.7469 - val_accuracy: 0.7873\n",
            "Epoch 6/10\n",
            "250/250 [==============================] - 271s 1s/step - loss: 0.2600 - accuracy: 0.9166 - val_loss: 0.9950 - val_accuracy: 0.7591\n",
            "Epoch 7/10\n",
            "250/250 [==============================] - 271s 1s/step - loss: 0.1946 - accuracy: 0.9425 - val_loss: 0.9896 - val_accuracy: 0.7566\n",
            "Epoch 8/10\n",
            "250/250 [==============================] - 270s 1s/step - loss: 0.1935 - accuracy: 0.9406 - val_loss: 0.8946 - val_accuracy: 0.7949\n",
            "Epoch 9/10\n",
            "250/250 [==============================] - 271s 1s/step - loss: 0.1522 - accuracy: 0.9500 - val_loss: 0.9450 - val_accuracy: 0.7727\n",
            "Epoch 10/10\n",
            "250/250 [==============================] - 273s 1s/step - loss: 0.1383 - accuracy: 0.9597 - val_loss: 0.8824 - val_accuracy: 0.7959\n"
          ],
          "name": "stdout"
        },
        {
          "output_type": "display_data",
          "data": {
            "text/html": [
              "<br/>Waiting for W&B process to finish, PID 479<br/>Program ended successfully."
            ],
            "text/plain": [
              "<IPython.core.display.HTML object>"
            ]
          },
          "metadata": {
            "tags": []
          }
        },
        {
          "output_type": "display_data",
          "data": {
            "application/vnd.jupyter.widget-view+json": {
              "model_id": "f14475954cdc48e196df8690cb137fed",
              "version_minor": 0,
              "version_major": 2
            },
            "text/plain": [
              "VBox(children=(Label(value=' 326.54MB of 326.54MB uploaded (0.00MB deduped)\\r'), FloatProgress(value=1.0, max=…"
            ]
          },
          "metadata": {
            "tags": []
          }
        },
        {
          "output_type": "display_data",
          "data": {
            "text/html": [
              "Find user logs for this run at: <code>/content/wandb/run-20210413_062927-j2kql2in/logs/debug.log</code>"
            ],
            "text/plain": [
              "<IPython.core.display.HTML object>"
            ]
          },
          "metadata": {
            "tags": []
          }
        },
        {
          "output_type": "display_data",
          "data": {
            "text/html": [
              "Find internal logs for this run at: <code>/content/wandb/run-20210413_062927-j2kql2in/logs/debug-internal.log</code>"
            ],
            "text/plain": [
              "<IPython.core.display.HTML object>"
            ]
          },
          "metadata": {
            "tags": []
          }
        },
        {
          "output_type": "display_data",
          "data": {
            "text/html": [
              "<h3>Run summary:</h3><br/><style>\n",
              "    table.wandb td:nth-child(1) { padding: 0 10px; text-align: right }\n",
              "    </style><table class=\"wandb\">\n",
              "<tr><td>epoch</td><td>9</td></tr><tr><td>loss</td><td>0.14761</td></tr><tr><td>accuracy</td><td>0.95388</td></tr><tr><td>val_loss</td><td>0.88236</td></tr><tr><td>val_accuracy</td><td>0.79587</td></tr><tr><td>_runtime</td><td>2742</td></tr><tr><td>_timestamp</td><td>1618298109</td></tr><tr><td>_step</td><td>9</td></tr><tr><td>best_val_accuracy</td><td>0.79587</td></tr><tr><td>best_epoch</td><td>9</td></tr></table>"
            ],
            "text/plain": [
              "<IPython.core.display.HTML object>"
            ]
          },
          "metadata": {
            "tags": []
          }
        },
        {
          "output_type": "display_data",
          "data": {
            "text/html": [
              "<h3>Run history:</h3><br/><style>\n",
              "    table.wandb td:nth-child(1) { padding: 0 10px; text-align: right }\n",
              "    </style><table class=\"wandb\">\n",
              "<tr><td>epoch</td><td>▁▂▃▃▄▅▆▆▇█</td></tr><tr><td>loss</td><td>█▅▄▃▃▂▂▁▁▁</td></tr><tr><td>accuracy</td><td>▁▄▅▅▆▇▇███</td></tr><tr><td>val_loss</td><td>▂▃▃█▁▃▃▂▃▂</td></tr><tr><td>val_accuracy</td><td>▅▂▃▁▇▅▄█▆█</td></tr><tr><td>_runtime</td><td>▁▂▃▃▄▅▆▆▇█</td></tr><tr><td>_timestamp</td><td>▁▂▃▃▄▅▆▆▇█</td></tr><tr><td>_step</td><td>▁▂▃▃▄▅▆▆▇█</td></tr></table><br/>"
            ],
            "text/plain": [
              "<IPython.core.display.HTML object>"
            ]
          },
          "metadata": {
            "tags": []
          }
        },
        {
          "output_type": "display_data",
          "data": {
            "text/html": [
              "Synced 5 W&B file(s), 1 media file(s), 0 artifact file(s) and 1 other file(s)"
            ],
            "text/plain": [
              "<IPython.core.display.HTML object>"
            ]
          },
          "metadata": {
            "tags": []
          }
        },
        {
          "output_type": "display_data",
          "data": {
            "text/html": [
              "\n",
              "                    <br/>Synced <strong style=\"color:#cdcd00\">glorious-sweep-29</strong>: <a href=\"https://wandb.ai/manideepladi/CNN_PartB/runs/j2kql2in\" target=\"_blank\">https://wandb.ai/manideepladi/CNN_PartB/runs/j2kql2in</a><br/>\n",
              "                "
            ],
            "text/plain": [
              "<IPython.core.display.HTML object>"
            ]
          },
          "metadata": {
            "tags": []
          }
        },
        {
          "output_type": "stream",
          "text": [
            "\u001b[34m\u001b[1mwandb\u001b[0m: Agent Starting Run: qgf1ifc9 with config:\n",
            "\u001b[34m\u001b[1mwandb\u001b[0m: \tnum_hlayers: 2\n",
            "\u001b[34m\u001b[1mwandb\u001b[0m: \tnum_neurons: 128\n",
            "\u001b[34m\u001b[1mwandb\u001b[0m: \tpretrained_model: InceptionResnetV2\n",
            "\u001b[34m\u001b[1mwandb\u001b[0m: \ttrainable_layers: No\n"
          ],
          "name": "stderr"
        },
        {
          "output_type": "display_data",
          "data": {
            "text/html": [
              "\n",
              "                Tracking run with wandb version 0.10.25<br/>\n",
              "                Syncing run <strong style=\"color:#cdcd00\">glad-sweep-30</strong> to <a href=\"https://wandb.ai\" target=\"_blank\">Weights & Biases</a> <a href=\"https://docs.wandb.com/integrations/jupyter.html\" target=\"_blank\">(Documentation)</a>.<br/>\n",
              "                Project page: <a href=\"https://wandb.ai/manideepladi/CNN_PartB\" target=\"_blank\">https://wandb.ai/manideepladi/CNN_PartB</a><br/>\n",
              "                Sweep page: <a href=\"https://wandb.ai/manideepladi/CNN_PartB/sweeps/mbq45fhk\" target=\"_blank\">https://wandb.ai/manideepladi/CNN_PartB/sweeps/mbq45fhk</a><br/>\n",
              "Run page: <a href=\"https://wandb.ai/manideepladi/CNN_PartB/runs/qgf1ifc9\" target=\"_blank\">https://wandb.ai/manideepladi/CNN_PartB/runs/qgf1ifc9</a><br/>\n",
              "                Run data is saved locally in <code>/content/wandb/run-20210413_071521-qgf1ifc9</code><br/><br/>\n",
              "            "
            ],
            "text/plain": [
              "<IPython.core.display.HTML object>"
            ]
          },
          "metadata": {
            "tags": []
          }
        },
        {
          "output_type": "stream",
          "text": [
            "Found 8000 images belonging to 10 classes.\n",
            "Found 1999 images belonging to 10 classes.\n",
            "Epoch 1/10\n",
            "250/250 [==============================] - 284s 1s/step - loss: 2.5516 - accuracy: 0.5997 - val_loss: 0.8528 - val_accuracy: 0.7540\n",
            "Epoch 2/10\n",
            "250/250 [==============================] - 271s 1s/step - loss: 0.7418 - accuracy: 0.7771 - val_loss: 0.8210 - val_accuracy: 0.7404\n",
            "Epoch 3/10\n",
            "250/250 [==============================] - 272s 1s/step - loss: 0.6283 - accuracy: 0.8003 - val_loss: 0.8366 - val_accuracy: 0.7686\n",
            "Epoch 4/10\n",
            "250/250 [==============================] - 273s 1s/step - loss: 0.5280 - accuracy: 0.8322 - val_loss: 0.7823 - val_accuracy: 0.7727\n",
            "Epoch 5/10\n",
            "250/250 [==============================] - 271s 1s/step - loss: 0.4649 - accuracy: 0.8630 - val_loss: 0.8914 - val_accuracy: 0.7641\n",
            "Epoch 6/10\n",
            "250/250 [==============================] - 270s 1s/step - loss: 0.4112 - accuracy: 0.8663 - val_loss: 0.9218 - val_accuracy: 0.7681\n",
            "Epoch 7/10\n",
            "250/250 [==============================] - 270s 1s/step - loss: 0.3867 - accuracy: 0.8775 - val_loss: 0.9992 - val_accuracy: 0.7631\n",
            "Epoch 8/10\n",
            "250/250 [==============================] - 272s 1s/step - loss: 0.3586 - accuracy: 0.8886 - val_loss: 0.8828 - val_accuracy: 0.7823\n",
            "Epoch 9/10\n",
            "250/250 [==============================] - 270s 1s/step - loss: 0.3110 - accuracy: 0.8986 - val_loss: 1.2357 - val_accuracy: 0.7571\n",
            "Epoch 10/10\n",
            "250/250 [==============================] - 268s 1s/step - loss: 0.3003 - accuracy: 0.9069 - val_loss: 1.0593 - val_accuracy: 0.7651\n"
          ],
          "name": "stdout"
        },
        {
          "output_type": "display_data",
          "data": {
            "text/html": [
              "<br/>Waiting for W&B process to finish, PID 567<br/>Program ended successfully."
            ],
            "text/plain": [
              "<IPython.core.display.HTML object>"
            ]
          },
          "metadata": {
            "tags": []
          }
        },
        {
          "output_type": "display_data",
          "data": {
            "application/vnd.jupyter.widget-view+json": {
              "model_id": "ac5441e853e740dd8a232cd1580a3e9f",
              "version_minor": 0,
              "version_major": 2
            },
            "text/plain": [
              "VBox(children=(Label(value=' 289.65MB of 289.65MB uploaded (0.00MB deduped)\\r'), FloatProgress(value=1.0, max=…"
            ]
          },
          "metadata": {
            "tags": []
          }
        },
        {
          "output_type": "display_data",
          "data": {
            "text/html": [
              "Find user logs for this run at: <code>/content/wandb/run-20210413_071521-qgf1ifc9/logs/debug.log</code>"
            ],
            "text/plain": [
              "<IPython.core.display.HTML object>"
            ]
          },
          "metadata": {
            "tags": []
          }
        },
        {
          "output_type": "display_data",
          "data": {
            "text/html": [
              "Find internal logs for this run at: <code>/content/wandb/run-20210413_071521-qgf1ifc9/logs/debug-internal.log</code>"
            ],
            "text/plain": [
              "<IPython.core.display.HTML object>"
            ]
          },
          "metadata": {
            "tags": []
          }
        },
        {
          "output_type": "display_data",
          "data": {
            "text/html": [
              "<h3>Run summary:</h3><br/><style>\n",
              "    table.wandb td:nth-child(1) { padding: 0 10px; text-align: right }\n",
              "    </style><table class=\"wandb\">\n",
              "<tr><td>epoch</td><td>9</td></tr><tr><td>loss</td><td>0.30164</td></tr><tr><td>accuracy</td><td>0.90338</td></tr><tr><td>val_loss</td><td>1.05925</td></tr><tr><td>val_accuracy</td><td>0.76512</td></tr><tr><td>_runtime</td><td>2739</td></tr><tr><td>_timestamp</td><td>1618300860</td></tr><tr><td>_step</td><td>9</td></tr><tr><td>best_val_accuracy</td><td>0.78226</td></tr><tr><td>best_epoch</td><td>7</td></tr></table>"
            ],
            "text/plain": [
              "<IPython.core.display.HTML object>"
            ]
          },
          "metadata": {
            "tags": []
          }
        },
        {
          "output_type": "display_data",
          "data": {
            "text/html": [
              "<h3>Run history:</h3><br/><style>\n",
              "    table.wandb td:nth-child(1) { padding: 0 10px; text-align: right }\n",
              "    </style><table class=\"wandb\">\n",
              "<tr><td>epoch</td><td>▁▂▃▃▄▅▆▆▇█</td></tr><tr><td>loss</td><td>█▄▃▂▂▂▂▁▁▁</td></tr><tr><td>accuracy</td><td>▁▄▅▆▆▇▇▇██</td></tr><tr><td>val_loss</td><td>▂▂▂▁▃▃▄▃█▅</td></tr><tr><td>val_accuracy</td><td>▃▁▆▆▅▆▅█▄▅</td></tr><tr><td>_runtime</td><td>▁▂▃▃▄▅▆▆▇█</td></tr><tr><td>_timestamp</td><td>▁▂▃▃▄▅▆▆▇█</td></tr><tr><td>_step</td><td>▁▂▃▃▄▅▆▆▇█</td></tr></table><br/>"
            ],
            "text/plain": [
              "<IPython.core.display.HTML object>"
            ]
          },
          "metadata": {
            "tags": []
          }
        },
        {
          "output_type": "display_data",
          "data": {
            "text/html": [
              "Synced 5 W&B file(s), 1 media file(s), 0 artifact file(s) and 1 other file(s)"
            ],
            "text/plain": [
              "<IPython.core.display.HTML object>"
            ]
          },
          "metadata": {
            "tags": []
          }
        },
        {
          "output_type": "display_data",
          "data": {
            "text/html": [
              "\n",
              "                    <br/>Synced <strong style=\"color:#cdcd00\">glad-sweep-30</strong>: <a href=\"https://wandb.ai/manideepladi/CNN_PartB/runs/qgf1ifc9\" target=\"_blank\">https://wandb.ai/manideepladi/CNN_PartB/runs/qgf1ifc9</a><br/>\n",
              "                "
            ],
            "text/plain": [
              "<IPython.core.display.HTML object>"
            ]
          },
          "metadata": {
            "tags": []
          }
        },
        {
          "output_type": "stream",
          "text": [
            "\u001b[34m\u001b[1mwandb\u001b[0m: Agent Starting Run: mf2ea4hq with config:\n",
            "\u001b[34m\u001b[1mwandb\u001b[0m: \tnum_hlayers: 2\n",
            "\u001b[34m\u001b[1mwandb\u001b[0m: \tnum_neurons: 128\n",
            "\u001b[34m\u001b[1mwandb\u001b[0m: \tpretrained_model: ResNet50\n",
            "\u001b[34m\u001b[1mwandb\u001b[0m: \ttrainable_layers: Yes\n"
          ],
          "name": "stderr"
        },
        {
          "output_type": "display_data",
          "data": {
            "text/html": [
              "\n",
              "                Tracking run with wandb version 0.10.25<br/>\n",
              "                Syncing run <strong style=\"color:#cdcd00\">vibrant-sweep-31</strong> to <a href=\"https://wandb.ai\" target=\"_blank\">Weights & Biases</a> <a href=\"https://docs.wandb.com/integrations/jupyter.html\" target=\"_blank\">(Documentation)</a>.<br/>\n",
              "                Project page: <a href=\"https://wandb.ai/manideepladi/CNN_PartB\" target=\"_blank\">https://wandb.ai/manideepladi/CNN_PartB</a><br/>\n",
              "                Sweep page: <a href=\"https://wandb.ai/manideepladi/CNN_PartB/sweeps/mbq45fhk\" target=\"_blank\">https://wandb.ai/manideepladi/CNN_PartB/sweeps/mbq45fhk</a><br/>\n",
              "Run page: <a href=\"https://wandb.ai/manideepladi/CNN_PartB/runs/mf2ea4hq\" target=\"_blank\">https://wandb.ai/manideepladi/CNN_PartB/runs/mf2ea4hq</a><br/>\n",
              "                Run data is saved locally in <code>/content/wandb/run-20210413_080112-mf2ea4hq</code><br/><br/>\n",
              "            "
            ],
            "text/plain": [
              "<IPython.core.display.HTML object>"
            ]
          },
          "metadata": {
            "tags": []
          }
        },
        {
          "output_type": "stream",
          "text": [
            "Downloading data from https://storage.googleapis.com/tensorflow/keras-applications/resnet/resnet50_weights_tf_dim_ordering_tf_kernels_notop.h5\n",
            "94773248/94765736 [==============================] - 1s 0us/step\n",
            "Found 8000 images belonging to 10 classes.\n",
            "Found 1999 images belonging to 10 classes.\n",
            "Epoch 1/10\n",
            "250/250 [==============================] - 265s 1s/step - loss: 4.4492 - accuracy: 0.1183 - val_loss: 2.2798 - val_accuracy: 0.1366\n",
            "Epoch 2/10\n",
            "250/250 [==============================] - 258s 1s/step - loss: 2.2569 - accuracy: 0.1659 - val_loss: 2.2485 - val_accuracy: 0.1749\n",
            "Epoch 3/10\n",
            "250/250 [==============================] - 260s 1s/step - loss: 2.2122 - accuracy: 0.1845 - val_loss: 2.2273 - val_accuracy: 0.1820\n",
            "Epoch 4/10\n",
            "250/250 [==============================] - 262s 1s/step - loss: 2.1980 - accuracy: 0.1940 - val_loss: 2.3013 - val_accuracy: 0.1779\n",
            "Epoch 5/10\n",
            "250/250 [==============================] - 260s 1s/step - loss: 2.1634 - accuracy: 0.1935 - val_loss: 2.2315 - val_accuracy: 0.1825\n",
            "Epoch 6/10\n",
            "250/250 [==============================] - 262s 1s/step - loss: 2.1503 - accuracy: 0.2066 - val_loss: 2.1372 - val_accuracy: 0.2273\n",
            "Epoch 7/10\n",
            "250/250 [==============================] - 259s 1s/step - loss: 2.1313 - accuracy: 0.2074 - val_loss: 2.9038 - val_accuracy: 0.1043\n",
            "Epoch 8/10\n",
            "250/250 [==============================] - 255s 1s/step - loss: 2.1354 - accuracy: 0.2147 - val_loss: 2.3109 - val_accuracy: 0.1598\n",
            "Epoch 9/10\n",
            "250/250 [==============================] - 252s 1s/step - loss: 2.1354 - accuracy: 0.2059 - val_loss: 2.2974 - val_accuracy: 0.1310\n",
            "Epoch 10/10\n",
            "250/250 [==============================] - 256s 1s/step - loss: 2.1549 - accuracy: 0.1978 - val_loss: 2.2667 - val_accuracy: 0.1431\n"
          ],
          "name": "stdout"
        },
        {
          "output_type": "display_data",
          "data": {
            "text/html": [
              "<br/>Waiting for W&B process to finish, PID 653<br/>Program ended successfully."
            ],
            "text/plain": [
              "<IPython.core.display.HTML object>"
            ]
          },
          "metadata": {
            "tags": []
          }
        },
        {
          "output_type": "display_data",
          "data": {
            "application/vnd.jupyter.widget-view+json": {
              "model_id": "3d042c55d3d34e058734a24ca67ea078",
              "version_minor": 0,
              "version_major": 2
            },
            "text/plain": [
              "VBox(children=(Label(value=' 316.61MB of 316.61MB uploaded (0.00MB deduped)\\r'), FloatProgress(value=1.0, max=…"
            ]
          },
          "metadata": {
            "tags": []
          }
        },
        {
          "output_type": "display_data",
          "data": {
            "text/html": [
              "Find user logs for this run at: <code>/content/wandb/run-20210413_080112-mf2ea4hq/logs/debug.log</code>"
            ],
            "text/plain": [
              "<IPython.core.display.HTML object>"
            ]
          },
          "metadata": {
            "tags": []
          }
        },
        {
          "output_type": "display_data",
          "data": {
            "text/html": [
              "Find internal logs for this run at: <code>/content/wandb/run-20210413_080112-mf2ea4hq/logs/debug-internal.log</code>"
            ],
            "text/plain": [
              "<IPython.core.display.HTML object>"
            ]
          },
          "metadata": {
            "tags": []
          }
        },
        {
          "output_type": "display_data",
          "data": {
            "text/html": [
              "<h3>Run summary:</h3><br/><style>\n",
              "    table.wandb td:nth-child(1) { padding: 0 10px; text-align: right }\n",
              "    </style><table class=\"wandb\">\n",
              "<tr><td>epoch</td><td>9</td></tr><tr><td>loss</td><td>2.13991</td></tr><tr><td>accuracy</td><td>0.202</td></tr><tr><td>val_loss</td><td>2.26672</td></tr><tr><td>val_accuracy</td><td>0.14315</td></tr><tr><td>_runtime</td><td>2604</td></tr><tr><td>_timestamp</td><td>1618303476</td></tr><tr><td>_step</td><td>9</td></tr><tr><td>best_val_accuracy</td><td>0.22732</td></tr><tr><td>best_epoch</td><td>5</td></tr></table>"
            ],
            "text/plain": [
              "<IPython.core.display.HTML object>"
            ]
          },
          "metadata": {
            "tags": []
          }
        },
        {
          "output_type": "display_data",
          "data": {
            "text/html": [
              "<h3>Run history:</h3><br/><style>\n",
              "    table.wandb td:nth-child(1) { padding: 0 10px; text-align: right }\n",
              "    </style><table class=\"wandb\">\n",
              "<tr><td>epoch</td><td>▁▂▃▃▄▅▆▆▇█</td></tr><tr><td>loss</td><td>█▂▂▂▁▁▁▁▁▁</td></tr><tr><td>accuracy</td><td>▁▄▅▆▆▇▇█▆▇</td></tr><tr><td>val_loss</td><td>▂▂▂▂▂▁█▃▂▂</td></tr><tr><td>val_accuracy</td><td>▃▅▅▅▅█▁▄▃▃</td></tr><tr><td>_runtime</td><td>▁▂▃▃▄▅▆▆▇█</td></tr><tr><td>_timestamp</td><td>▁▂▃▃▄▅▆▆▇█</td></tr><tr><td>_step</td><td>▁▂▃▃▄▅▆▆▇█</td></tr></table><br/>"
            ],
            "text/plain": [
              "<IPython.core.display.HTML object>"
            ]
          },
          "metadata": {
            "tags": []
          }
        },
        {
          "output_type": "display_data",
          "data": {
            "text/html": [
              "Synced 5 W&B file(s), 1 media file(s), 0 artifact file(s) and 1 other file(s)"
            ],
            "text/plain": [
              "<IPython.core.display.HTML object>"
            ]
          },
          "metadata": {
            "tags": []
          }
        },
        {
          "output_type": "display_data",
          "data": {
            "text/html": [
              "\n",
              "                    <br/>Synced <strong style=\"color:#cdcd00\">vibrant-sweep-31</strong>: <a href=\"https://wandb.ai/manideepladi/CNN_PartB/runs/mf2ea4hq\" target=\"_blank\">https://wandb.ai/manideepladi/CNN_PartB/runs/mf2ea4hq</a><br/>\n",
              "                "
            ],
            "text/plain": [
              "<IPython.core.display.HTML object>"
            ]
          },
          "metadata": {
            "tags": []
          }
        },
        {
          "output_type": "stream",
          "text": [
            "\u001b[34m\u001b[1mwandb\u001b[0m: Agent Starting Run: kpqqu0q1 with config:\n",
            "\u001b[34m\u001b[1mwandb\u001b[0m: \tnum_hlayers: 2\n",
            "\u001b[34m\u001b[1mwandb\u001b[0m: \tnum_neurons: 128\n",
            "\u001b[34m\u001b[1mwandb\u001b[0m: \tpretrained_model: ResNet50\n",
            "\u001b[34m\u001b[1mwandb\u001b[0m: \ttrainable_layers: No\n"
          ],
          "name": "stderr"
        },
        {
          "output_type": "display_data",
          "data": {
            "text/html": [
              "\n",
              "                Tracking run with wandb version 0.10.25<br/>\n",
              "                Syncing run <strong style=\"color:#cdcd00\">glamorous-sweep-32</strong> to <a href=\"https://wandb.ai\" target=\"_blank\">Weights & Biases</a> <a href=\"https://docs.wandb.com/integrations/jupyter.html\" target=\"_blank\">(Documentation)</a>.<br/>\n",
              "                Project page: <a href=\"https://wandb.ai/manideepladi/CNN_PartB\" target=\"_blank\">https://wandb.ai/manideepladi/CNN_PartB</a><br/>\n",
              "                Sweep page: <a href=\"https://wandb.ai/manideepladi/CNN_PartB/sweeps/mbq45fhk\" target=\"_blank\">https://wandb.ai/manideepladi/CNN_PartB/sweeps/mbq45fhk</a><br/>\n",
              "Run page: <a href=\"https://wandb.ai/manideepladi/CNN_PartB/runs/kpqqu0q1\" target=\"_blank\">https://wandb.ai/manideepladi/CNN_PartB/runs/kpqqu0q1</a><br/>\n",
              "                Run data is saved locally in <code>/content/wandb/run-20210413_084447-kpqqu0q1</code><br/><br/>\n",
              "            "
            ],
            "text/plain": [
              "<IPython.core.display.HTML object>"
            ]
          },
          "metadata": {
            "tags": []
          }
        },
        {
          "output_type": "stream",
          "text": [
            "Found 8000 images belonging to 10 classes.\n",
            "Found 1999 images belonging to 10 classes.\n",
            "Epoch 1/10\n",
            "250/250 [==============================] - 262s 1s/step - loss: 3.9314 - accuracy: 0.1218 - val_loss: 2.4581 - val_accuracy: 0.1431\n",
            "Epoch 2/10\n",
            "250/250 [==============================] - 256s 1s/step - loss: 2.2835 - accuracy: 0.1520 - val_loss: 2.3028 - val_accuracy: 0.1003\n",
            "Epoch 3/10\n",
            "250/250 [==============================] - 258s 1s/step - loss: 2.3022 - accuracy: 0.1006 - val_loss: 2.3025 - val_accuracy: 0.1003\n",
            "Epoch 4/10\n",
            "250/250 [==============================] - 254s 1s/step - loss: 2.3020 - accuracy: 0.1026 - val_loss: 2.2973 - val_accuracy: 0.1069\n",
            "Epoch 5/10\n",
            " 36/250 [===>..........................] - ETA: 2:55 - loss: 2.2966 - accuracy: 0.0948"
          ],
          "name": "stdout"
        }
      ]
    },
    {
      "cell_type": "markdown",
      "metadata": {
        "id": "cwA7C-aI1xz8"
      },
      "source": [
        "Training with one of the best model from sweep"
      ]
    },
    {
      "cell_type": "code",
      "metadata": {
        "colab": {
          "base_uri": "https://localhost:8080/"
        },
        "id": "-jP5nfcO6zIG",
        "outputId": "49d121c6-7e89-4068-eff3-a241e96c4f59"
      },
      "source": [
        "train_path = '/content/inaturalist_12K/train'\n",
        "\n",
        "target_size = (256,256,3)\n",
        "\n",
        "obj1 = Fine_Tune(target_size=target_size ,\n",
        "                   pretrained_model = \"InceptionResnetV2\",\n",
        "                   num_neurons =128,\n",
        "                   num_hlayers = 2,\n",
        "                   trainable_layers=\"Yes\") \n",
        "obj1.BUILD_MODEL()\n",
        "obj1.Fit_Model(train_path,epochs=10,batch_size=32)"
      ],
      "execution_count": null,
      "outputs": [
        {
          "output_type": "stream",
          "text": [
            "Found 8000 images belonging to 10 classes.\n",
            "Found 1999 images belonging to 10 classes.\n",
            "Epoch 1/10\n",
            "250/250 [==============================] - 296s 1s/step - loss: 2.1951 - accuracy: 0.6250 - val_loss: 0.8463 - val_accuracy: 0.7344\n",
            "Epoch 2/10\n",
            "250/250 [==============================] - 243s 974ms/step - loss: 0.6010 - accuracy: 0.8123 - val_loss: 1.5475 - val_accuracy: 0.6477\n",
            "Epoch 3/10\n",
            "250/250 [==============================] - 237s 947ms/step - loss: 0.4600 - accuracy: 0.8483 - val_loss: 0.9939 - val_accuracy: 0.7278\n",
            "Epoch 4/10\n",
            "250/250 [==============================] - 235s 941ms/step - loss: 0.3855 - accuracy: 0.8776 - val_loss: 0.7967 - val_accuracy: 0.7777\n",
            "Epoch 5/10\n",
            "250/250 [==============================] - 237s 949ms/step - loss: 0.3172 - accuracy: 0.8951 - val_loss: 0.7527 - val_accuracy: 0.7707\n",
            "Epoch 6/10\n",
            "250/250 [==============================] - 236s 945ms/step - loss: 0.2823 - accuracy: 0.9105 - val_loss: 0.9141 - val_accuracy: 0.7772\n",
            "Epoch 7/10\n",
            "250/250 [==============================] - 238s 950ms/step - loss: 0.2047 - accuracy: 0.9342 - val_loss: 0.8185 - val_accuracy: 0.8004\n",
            "Epoch 8/10\n",
            "250/250 [==============================] - 236s 944ms/step - loss: 0.1639 - accuracy: 0.9444 - val_loss: 0.9964 - val_accuracy: 0.7777\n",
            "Epoch 9/10\n",
            "250/250 [==============================] - 234s 936ms/step - loss: 0.1563 - accuracy: 0.9500 - val_loss: 0.9732 - val_accuracy: 0.7747\n",
            "Epoch 10/10\n",
            "250/250 [==============================] - 235s 941ms/step - loss: 0.1322 - accuracy: 0.9622 - val_loss: 1.0390 - val_accuracy: 0.7848\n"
          ],
          "name": "stdout"
        }
      ]
    },
    {
      "cell_type": "code",
      "metadata": {
        "colab": {
          "base_uri": "https://localhost:8080/"
        },
        "id": "X46PSBFi2DbM",
        "outputId": "028adaea-c319-4767-e5d1-054e6af41e09"
      },
      "source": [
        "#Return the accuracy and predictions on test data ..\n",
        "\n",
        "test_path = '/content/inaturalist_12K/val'\n",
        "test_auc = obj1.Predict_Test(test_path)\n",
        "print(test_auc)"
      ],
      "execution_count": null,
      "outputs": [
        {
          "output_type": "stream",
          "text": [
            "Found 2000 images belonging to 10 classes.\n",
            "Getting predictions for test data..\n",
            "2000/2000 [==============================] - 69s 33ms/step\n",
            "0.777\n"
          ],
          "name": "stdout"
        }
      ]
    }
  ]
}