{
  "nbformat": 4,
  "nbformat_minor": 0,
  "metadata": {
    "accelerator": "GPU",
    "colab": {
      "name": "FinalRNN.ipynb",
      "provenance": [],
      "collapsed_sections": [],
      "include_colab_link": true
    },
    "kernelspec": {
      "display_name": "Python 3",
      "name": "python3"
    },
    "language_info": {
      "name": "python"
    }
  },
  "cells": [
    {
      "cell_type": "markdown",
      "metadata": {
        "id": "view-in-github",
        "colab_type": "text"
      },
      "source": [
        "<a href=\"https://colab.research.google.com/github/ManideepLadi/cs6910_assignment3/blob/manideep/RNN_WithoutAttention.ipynb\" target=\"_parent\"><img src=\"https://colab.research.google.com/assets/colab-badge.svg\" alt=\"Open In Colab\"/></a>"
      ]
    },
    {
      "cell_type": "markdown",
      "metadata": {
        "id": "XtPImZsVbFBM"
      },
      "source": [
        "Dakshina Dataset from google\n"
      ]
    },
    {
      "cell_type": "code",
      "metadata": {
        "id": "1vtAugqFbBYK"
      },
      "source": [
        "import numpy as np\n",
        "import tensorflow as tf\n",
        "from tensorflow import keras\n",
        "from tensorflow.keras import layers\n",
        "import random\n",
        "from tensorflow.keras.utils import plot_model\n",
        "from copy import copy\n",
        "from math import log\n",
        "import math\n"
      ],
      "execution_count": 1,
      "outputs": []
    },
    {
      "cell_type": "code",
      "metadata": {
        "id": "KjzDuwKZKJPn"
      },
      "source": [
        "!wget https://storage.googleapis.com/gresearch/dakshina/dakshina_dataset_v1.0.tar"
      ],
      "execution_count": null,
      "outputs": []
    },
    {
      "cell_type": "code",
      "metadata": {
        "id": "bwrsSsGjL71A"
      },
      "source": [
        "!tar -xvf '/content/dakshina_dataset_v1.0.tar'"
      ],
      "execution_count": null,
      "outputs": []
    },
    {
      "cell_type": "markdown",
      "metadata": {
        "id": "vHzz6F2JWU4G"
      },
      "source": [
        "Preprocess data"
      ]
    },
    {
      "cell_type": "code",
      "metadata": {
        "id": "AFLn-AyRWkid"
      },
      "source": [
        "train_filename = 'dakshina_dataset_v1.0/hi/lexicons/hi.translit.sampled.train.tsv'\n",
        "validation_filename = 'dakshina_dataset_v1.0/hi/lexicons/hi.translit.sampled.dev.tsv'\n",
        "test_filename = 'dakshina_dataset_v1.0/hi/lexicons/hi.translit.sampled.test.tsv'"
      ],
      "execution_count": 19,
      "outputs": []
    },
    {
      "cell_type": "markdown",
      "metadata": {
        "id": "5RA36kRiSeIB"
      },
      "source": [
        "Preprocessing of Training Data"
      ]
    },
    {
      "cell_type": "code",
      "metadata": {
        "colab": {
          "base_uri": "https://localhost:8080/"
        },
        "id": "DES54LZD_Ilx",
        "outputId": "8984a64a-5ad8-46be-8911-ca9dad4f0347"
      },
      "source": [
        "# Vectorize the data.\n",
        "input_texts = []\n",
        "target_texts = []\n",
        "input_characters = set()\n",
        "target_characters = set()\n",
        "inputdata=[]\n",
        "with open(train_filename, \"r\", encoding=\"utf-8\") as f:\n",
        "    lines = f.read().split(\"\\n\")\n",
        "for line in lines[: len(lines) - 1]:\n",
        "    inputdata.append(line)\n",
        "random.shuffle(inputdata)\n",
        "for line in inputdata:\n",
        "    target_text,input_text, attestation = line.split(\"\\t\")\n",
        "    # We use \"tab\" as the \"start sequence\" character\n",
        "    # for the targets, and \"\\n\" as \"end sequence\" character.\n",
        "    target_text = \"\\t\" + target_text + \"\\n\"\n",
        "    input_texts.append(input_text)\n",
        "    target_texts.append(target_text)\n",
        "    for char in input_text:\n",
        "        if char not in input_characters:\n",
        "            input_characters.add(char)\n",
        "    for char in target_text:\n",
        "        if char not in target_characters:\n",
        "            target_characters.add(char)\n",
        "\n",
        "input_characters = sorted(list(input_characters))\n",
        "target_characters = sorted(list(target_characters))\n",
        "num_encoder_tokens = len(input_characters)\n",
        "num_decoder_tokens = len(target_characters)\n",
        "max_encoder_seq_length = max([len(txt) for txt in input_texts])\n",
        "max_decoder_seq_length = max([len(txt) for txt in target_texts])\n",
        "\n",
        "print(\"Number of samples:\", len(input_texts))\n",
        "print(\"Number of unique input tokens:\", num_encoder_tokens)\n",
        "print(\"Number of unique output tokens:\", num_decoder_tokens)\n",
        "print(\"Max sequence length for inputs:\", max_encoder_seq_length)\n",
        "print(\"Max sequence length for outputs:\", max_decoder_seq_length)"
      ],
      "execution_count": 5,
      "outputs": [
        {
          "output_type": "stream",
          "text": [
            "Number of samples: 44204\n",
            "Number of unique input tokens: 26\n",
            "Number of unique output tokens: 65\n",
            "Max sequence length for inputs: 20\n",
            "Max sequence length for outputs: 21\n"
          ],
          "name": "stdout"
        }
      ]
    },
    {
      "cell_type": "markdown",
      "metadata": {
        "id": "VoEzmuCOSsBO"
      },
      "source": [
        "Preprocessin of Validation Data"
      ]
    },
    {
      "cell_type": "code",
      "metadata": {
        "colab": {
          "base_uri": "https://localhost:8080/"
        },
        "id": "ePjhKC4ZyiEZ",
        "outputId": "b79f0708-7934-4ece-9686-cdba8c2c8b48"
      },
      "source": [
        "# Vectorize the data.\n",
        "validation_input_texts = []\n",
        "validation_target_texts = []\n",
        "\n",
        "with open(validation_filename, \"r\", encoding=\"utf-8\") as f:\n",
        "    lines = f.read().split(\"\\n\")\n",
        "for line in lines[: len(lines) - 1]:\n",
        "    validation_target_text,validation_input_text, attestation = line.split(\"\\t\")\n",
        "    # We use \"tab\" as the \"start sequence\" character\n",
        "    # for the targets, and \"\\n\" as \"end sequence\" character.\n",
        "    validation_target_text = \"\\t\" + validation_target_text + \"\\n\"\n",
        "    validation_input_texts.append(validation_input_text)\n",
        "    validation_target_texts.append(validation_target_text)\n",
        "    for char in validation_input_text:\n",
        "        if char not in input_characters:\n",
        "            input_characters.add(char)\n",
        "    for char in validation_target_text:\n",
        "        if char not in target_characters:\n",
        "            target_characters.add(char)\n",
        "\n",
        "input_characters = sorted(list(input_characters))\n",
        "target_characters = sorted(list(target_characters))\n",
        "validation_num_encoder_tokens = len(input_characters)\n",
        "validation_num_decoder_tokens = len(target_characters)\n",
        "validation_max_encoder_seq_length = max([len(txt) for txt in validation_input_texts])\n",
        "validation_max_decoder_seq_length = max([len(txt) for txt in validation_target_texts])\n",
        "\n",
        "print(\"Number of validation samples:\", len(validation_input_texts))\n",
        "print(\"Number of unique input tokens:\", validation_num_encoder_tokens)\n",
        "print(\"Number of unique output tokens:\", validation_num_decoder_tokens)\n",
        "print(\"validation Max sequence length for inputs:\", validation_max_encoder_seq_length)\n",
        "print(\"validation Max sequence length for outputs:\", validation_max_decoder_seq_length)"
      ],
      "execution_count": 6,
      "outputs": [
        {
          "output_type": "stream",
          "text": [
            "Number of validation samples: 4358\n",
            "Number of unique input tokens: 26\n",
            "Number of unique output tokens: 65\n",
            "validation Max sequence length for inputs: 18\n",
            "validation Max sequence length for outputs: 16\n"
          ],
          "name": "stdout"
        }
      ]
    },
    {
      "cell_type": "markdown",
      "metadata": {
        "id": "vMPMj55gSzNZ"
      },
      "source": [
        "Preprocessing of Test Data"
      ]
    },
    {
      "cell_type": "code",
      "metadata": {
        "colab": {
          "base_uri": "https://localhost:8080/"
        },
        "id": "8GSi4EXoSxD4",
        "outputId": "7641c94e-3381-49fb-e2c3-02e1bacae7ec"
      },
      "source": [
        "# Vectorize the data.\n",
        "test_input_texts = []\n",
        "test_target_texts = []\n",
        "\n",
        "with open(test_filename, \"r\", encoding=\"utf-8\") as f:\n",
        "    lines = f.read().split(\"\\n\")\n",
        "for line in lines[: len(lines) - 1]:\n",
        "    test_target_text,test_input_text, attestation = line.split(\"\\t\")\n",
        "    # We use \"tab\" as the \"start sequence\" character\n",
        "    # for the targets, and \"\\n\" as \"end sequence\" character.\n",
        "    test_target_text = \"\\t\" + test_target_text + \"\\n\"\n",
        "    test_input_texts.append(test_input_text)\n",
        "    test_target_texts.append(test_target_text)\n",
        "\n",
        "test_max_encoder_seq_length = max([len(txt) for txt in test_input_texts])\n",
        "test_max_decoder_seq_length = max([len(txt) for txt in test_target_texts])\n",
        "\n",
        "print(\"Number of validation samples:\", len(test_input_texts))\n",
        "print(\"Test Max sequence length for inputs:\", test_max_encoder_seq_length)\n",
        "print(\"Test Max sequence length for outputs:\", test_max_decoder_seq_length)"
      ],
      "execution_count": 21,
      "outputs": [
        {
          "output_type": "stream",
          "text": [
            "Number of validation samples: 4502\n",
            "Test Max sequence length for inputs: 16\n",
            "Test Max sequence length for outputs: 17\n"
          ],
          "name": "stdout"
        }
      ]
    },
    {
      "cell_type": "code",
      "metadata": {
        "id": "HEXmZ5ze_4Bc"
      },
      "source": [
        "input_token_index = dict([(char, i) for i, char in enumerate(input_characters)])\n",
        "target_token_index = dict([(char, i) for i, char in enumerate(target_characters)])\n",
        "\n",
        "reverse_input_char_index = dict((i, char) for char, i in input_token_index.items())\n",
        "reverse_target_char_index = dict((i, char) for char, i in target_token_index.items())\n",
        "\n",
        "encoder_input_data = np.zeros(\n",
        "    (len(input_texts), max_encoder_seq_length, num_encoder_tokens), dtype=\"float32\"\n",
        ")\n",
        "validation_encoder_input_data=np.zeros(\n",
        "    (len(validation_input_texts), max_encoder_seq_length, num_encoder_tokens), dtype=\"float32\"\n",
        ")\n",
        "test_encoder_input_data=np.zeros(\n",
        "    (len(test_input_texts), test_max_encoder_seq_length, num_encoder_tokens), dtype=\"float32\"\n",
        ")\n",
        "decoder_input_data = np.zeros(\n",
        "    (len(input_texts), max_decoder_seq_length, num_decoder_tokens), dtype=\"float32\"\n",
        ")\n",
        "validation_decoder_input_data =np.zeros(\n",
        "    (len(validation_input_texts), max_decoder_seq_length, num_decoder_tokens), dtype=\"float32\"\n",
        ")\n",
        "decoder_target_data = np.zeros(\n",
        "    (len(input_texts), max_decoder_seq_length, num_decoder_tokens), dtype=\"float32\"\n",
        ")\n",
        "validation_decoder_target_data = np.zeros(\n",
        "    (len(validation_input_texts), max_decoder_seq_length, num_decoder_tokens), dtype=\"float32\"\n",
        ")\n",
        "\n",
        "for i, (input_text, target_text) in enumerate(zip(input_texts, target_texts)):\n",
        "    for t, char in enumerate(input_text):\n",
        "        encoder_input_data[i, t, input_token_index[char]] = 1.0\n",
        "    for t, char in enumerate(target_text):\n",
        "        # decoder_target_data is ahead of decoder_input_data by one timestep\n",
        "        decoder_input_data[i, t, target_token_index[char]] = 1.0\n",
        "        if t > 0:\n",
        "            # decoder_target_data will be ahead by one timestep\n",
        "            # and will not include the start character.\n",
        "            decoder_target_data[i, t - 1, target_token_index[char]] = 1.0\n",
        "# for validation data\n",
        "for i, (validation_input_text, validation_target_text) in enumerate(zip(validation_input_texts, validation_target_texts)):\n",
        "    for t, char in enumerate(validation_input_text):\n",
        "        validation_encoder_input_data[i, t, input_token_index[char]] = 1.0\n",
        "    for t, char in enumerate(validation_target_text):\n",
        "        # decoder_target_data is ahead of decoder_input_data by one timestep\n",
        "        validation_decoder_input_data[i, t, target_token_index[char]] = 1.0\n",
        "        if t > 0:\n",
        "            # decoder_target_data will be ahead by one timestep\n",
        "            # and will not include the start character.\n",
        "            validation_decoder_target_data[i, t - 1, target_token_index[char]] = 1.0\n",
        "\n",
        "# for test data\n",
        "for i, (test_input_text, test_target_text) in enumerate(zip(test_input_texts, test_target_texts)):\n",
        "    for t, char in enumerate(test_input_text):\n",
        "        test_encoder_input_data[i, t, input_token_index[char]] = 1.0"
      ],
      "execution_count": 22,
      "outputs": []
    },
    {
      "cell_type": "code",
      "metadata": {
        "colab": {
          "base_uri": "https://localhost:8080/",
          "height": 35
        },
        "id": "OA7cc78OfWW_",
        "outputId": "89d2d01c-6ff6-47f6-e223-84f5d0946fa6"
      },
      "source": [
        "test_target_texts[100]"
      ],
      "execution_count": 24,
      "outputs": [
        {
          "output_type": "execute_result",
          "data": {
            "application/vnd.google.colaboratory.intrinsic+json": {
              "type": "string"
            },
            "text/plain": [
              "'\\tअनुकूलता\\n'"
            ]
          },
          "metadata": {
            "tags": []
          },
          "execution_count": 24
        }
      ]
    },
    {
      "cell_type": "code",
      "metadata": {
        "id": "0h7tUO2HV3RQ"
      },
      "source": [
        "class Utility:\n",
        "  def beam_search_decoder(self,data, k):\n",
        "    decodedSequences = [[list(), 0.0]]\n",
        "    # walk over each step in sequence\n",
        "    for row in data:\n",
        "      all_candidates = list()\n",
        "      # expand each current candidate\n",
        "      for i in range(len(decodedSequences)):\n",
        "        seq, score = decodedSequences[i]\n",
        "        for j in range(len(row)):\n",
        "          candidate = [seq + [j], score - log(row[j])]\n",
        "          all_candidates.append(candidate)\n",
        "      # order all candidates by score\n",
        "      ordered = sorted(all_candidates, key=lambda tup:tup[1])\n",
        "      # select k best\n",
        "      decodedSequences = ordered[:k]\n",
        "    return decodedSequences\n",
        "  \n",
        "  def decode_translate(self,seq):\n",
        "    decoded_sentence = [] \n",
        "    for x in seq:\n",
        "      sampled_char = reverse_target_char_index[x]\n",
        "      decoded_sentence.append(sampled_char)\n",
        "    return \"\".join(decoded_sentence)\n",
        "  \n",
        "  def decode_sequence_using_inference(self,input_seq, encoder_model, decoder_model):\n",
        "    # Encode the input as state vectors.\n",
        "    states_value = encoder_model.predict(input_seq)\n",
        "\n",
        "    # Generate empty target sequence of length 1.\n",
        "    target_seq = np.zeros((1, 1, num_decoder_tokens))\n",
        "    # Populate the first character of target sequence with the start character.\n",
        "    target_seq[0, 0, target_token_index['\\t']] = 1.\n",
        "\n",
        "    stop_condition = False\n",
        "    decoded_sentence = []  \n",
        "    while not stop_condition:\n",
        "        to_split = decoder_model.predict([target_seq] + states_value)\n",
        "\n",
        "        output_tokens, states_value = to_split[0], to_split[1:]\n",
        "\n",
        "        # Sample a token\n",
        "        sampled_token_index = np.argmax(output_tokens[0, 0])\n",
        "        sampled_char = reverse_target_char_index[sampled_token_index]\n",
        "        decoded_sentence.append(sampled_char)\n",
        "\n",
        "        # Exit condition: either hit max length\n",
        "        # or find stop character.\n",
        "        if sampled_char == '\\n' or len(decoded_sentence) > max_decoder_seq_length:\n",
        "            stop_condition = True\n",
        "\n",
        "        # Update the target sequence (of length 1).\n",
        "        target_seq = np.zeros((1, 1, num_decoder_tokens))\n",
        "        target_seq[0, 0, sampled_token_index] = 1.\n",
        "\n",
        "    return \"\".join(decoded_sentence)\n",
        "\n",
        "\n"
      ],
      "execution_count": 8,
      "outputs": []
    },
    {
      "cell_type": "code",
      "metadata": {
        "id": "EHH5P6ioE8m_"
      },
      "source": [
        "class WordAccuracyCallback(keras.callbacks.Callback):\n",
        "  def __init__(self,beam_size):\n",
        "    self.beam_size=beam_size\n",
        "  def on_epoch_end(self, epoch, logs=None):\n",
        "    yPred=self.model.predict([validation_encoder_input_data,validation_decoder_input_data])\n",
        "    count=0\n",
        "    U=Utility()\n",
        "    k=self.beam_size\n",
        "    for i in range(yPred.shape[0]):\n",
        "      predictedSequences=U.beam_search_decoder(yPred[i],k)\n",
        "      for j in range(k):\n",
        "        if \"\\t\"+U.decode_translate(predictedSequences[j][0][:len(validation_target_texts[i])-1])==validation_target_texts[i]:\n",
        "          count=count+1\n",
        "          break\n",
        "    factor = 10.0 ** 4\n",
        "    logs[\"WordAccuracy\"]=math.trunc((count/yPred.shape[0])*factor)/factor\n",
        "    print(\"- wordAccuracy:\",logs[\"WordAccuracy\"])"
      ],
      "execution_count": 9,
      "outputs": []
    },
    {
      "cell_type": "code",
      "metadata": {
        "id": "lKqUWxTLuZJ3"
      },
      "source": [
        "class RNN_Model:\n",
        "\n",
        "  def __init__(self,no_of_encoder_layers,no_of_decoder_layers,latent_dimension,dropout,recurrent_dropout,cell_type,beam_size):\n",
        "\n",
        "    self.no_of_encoder_layers = no_of_encoder_layers\n",
        "    self.no_of_decoder_layers = no_of_decoder_layers\n",
        "    self.latent_dimension = latent_dimension\n",
        "    self.dropout = dropout\n",
        "    self.recurrent_dropout=recurrent_dropout\n",
        "    self.cell_type=cell_type\n",
        "    self.model = None\n",
        "    self.encoder_inputs= None\n",
        "    self.encoder_states = None\n",
        "    self.decoder_inputs = None\n",
        "    self.output_layers = []\n",
        "    self.decoder_dense = None\n",
        "    self.beam_size = beam_size\n",
        "\n",
        "\n",
        "  def printModelParameters(self):\n",
        "    print(self.no_of_encoder_layers)\n",
        "    print(self.no_of_decoder_layers)\n",
        "    print(self.latent_dimension)\n",
        "    print(self.dropout)\n",
        "    print(self.model.summary())\n",
        "\n",
        "  def BUILD_MODEL(self,num_encoder_tokens,num_decoder_tokens):\n",
        "    self.encoder_inputs = keras.Input(shape=(None, num_encoder_tokens))\n",
        "\n",
        "    outputs = self.encoder_inputs\n",
        "    self.encoder_states = []\n",
        "    for j in range(self.no_of_encoder_layers)[::-1]:\n",
        "      if self.cell_type == \"LSTM\":\n",
        "        outputs, h , c = keras.layers.LSTM(self.latent_dimension*(2**(self.no_of_encoder_layers-j-1)), return_state=True, return_sequences=bool(j),dropout=self.dropout,recurrent_dropout=self.recurrent_dropout)(outputs)\n",
        "        self.encoder_states += [h,c]\n",
        "      elif self.cell_type == \"GRU\" :\n",
        "        outputs, h = keras.layers.GRU(self.latent_dimension*(2**(self.no_of_encoder_layers-j-1)), return_state=True, return_sequences=bool(j),dropout=self.dropout,recurrent_dropout=self.recurrent_dropout)(outputs)\n",
        "        self.encoder_states += [h]\n",
        "      elif self.cell_type == \"RNN\" :\n",
        "        outputs, h = keras.layers.SimpleRNN(self.latent_dimension*(2**(self.no_of_encoder_layers-j-1)), return_state=True, return_sequences=bool(j),dropout=self.dropout,recurrent_dropout=self.recurrent_dropout)(outputs)\n",
        "        self.encoder_states += [h]\n",
        "    \n",
        "    self.decoder_inputs = keras.Input(shape=(None, num_decoder_tokens))\n",
        "    outputs = self.decoder_inputs\n",
        "    for j in range(self.no_of_decoder_layers):\n",
        "        if self.cell_type == \"LSTM\":\n",
        "          self.output_layers.append(\n",
        "              keras.layers.LSTM(self.latent_dimension*(2**(j)), return_sequences=True, return_state=True,dropout=self.dropout,recurrent_dropout=self.recurrent_dropout)\n",
        "          )\n",
        "          outputs, dh, dc = self.output_layers[-1](outputs, initial_state=self.encoder_states[2*j:2*(j+1)])\n",
        "        elif self.cell_type == \"GRU\" : \n",
        "          self.output_layers.append(\n",
        "              keras.layers.GRU(self.latent_dimension*(2**(j)), return_sequences=True, return_state=True,dropout=self.dropout,recurrent_dropout=self.recurrent_dropout)\n",
        "          )\n",
        "          outputs, dh = self.output_layers[-1](outputs, initial_state=self.encoder_states[j:j+1])\n",
        "        elif self.cell_type == \"RNN\" : \n",
        "          self.output_layers.append(\n",
        "              keras.layers.SimpleRNN(self.latent_dimension*(2**(j)), return_sequences=True, return_state=True,dropout=self.dropout,recurrent_dropout=self.recurrent_dropout)\n",
        "          )\n",
        "          outputs, dh = self.output_layers[-1](outputs, initial_state=self.encoder_states[j:j+1])\n",
        "\n",
        " \n",
        "    self.decoder_dense = keras.layers.Dense(num_decoder_tokens, activation='softmax')\n",
        "    decoder_outputs = self.decoder_dense(outputs)\n",
        "    # Define the model that will turn\n",
        "    # `encoder_input_data` & `decoder_input_data` into `decoder_target_data`\n",
        "    self.model = keras.Model([self.encoder_inputs, self.decoder_inputs], decoder_outputs)\n",
        "    self.model.compile(optimizer='rmsprop',loss='categorical_crossentropy',metrics=['accuracy']) \n",
        "    return \n",
        "\n",
        "\n",
        "  #Fit model using the train datagenerator and returns fitted model..\n",
        "  def FIT_RNN(self , encoder_input_data,decoder_input_data ,decoder_target_data,epochs ,batch_size,validation_encoder_input_data,validation_decoder_input_data,validation_decoder_target_data):\n",
        "    self.model.fit(\n",
        "        [encoder_input_data, decoder_input_data],\n",
        "        decoder_target_data,\n",
        "        batch_size=batch_size,\n",
        "        epochs=epochs,\n",
        "        shuffle=True,\n",
        "        callbacks = [WordAccuracyCallback(self.beam_size),WandbCallback(monitor='WordAccuracy',\n",
        "                                                    save_model = True)],verbose=1)\n",
        "        # callbacks = [WandbCallback(monitor='val_accuracy',\n",
        "        #                                             save_model = True)],verbose=1)\n",
        "    return\n",
        "  def load_model(self):\n",
        "    encoder_model = keras.Model(self.encoder_inputs, self.encoder_states)\n",
        "    d_outputs = self.decoder_inputs\n",
        "    decoder_states_inputs = []\n",
        "    decoder_states = []\n",
        "    for j in range(self.no_of_decoder_layers):\n",
        "        if self.cell_type ==\"LSTM\":\n",
        "          current_state_inputs = [keras.Input(shape=(self.latent_dimension*(2**(j)),)) for _ in range(2)]\n",
        "        else :\n",
        "          current_state_inputs = [keras.Input(shape=(self.latent_dimension*(2**(j)),))]\n",
        "\n",
        "        temp = self.output_layers[j](d_outputs, initial_state=current_state_inputs)\n",
        "\n",
        "        d_outputs, cur_states = temp[0], temp[1:]\n",
        "\n",
        "        decoder_states += cur_states\n",
        "        decoder_states_inputs += current_state_inputs\n",
        "\n",
        "    decoder_outputs = self.decoder_dense(d_outputs)\n",
        "    decoder_model = keras.Model(\n",
        "        [self.decoder_inputs] + decoder_states_inputs,\n",
        "        [decoder_outputs] + decoder_states)\n",
        "    return encoder_model,decoder_model\n"
      ],
      "execution_count": 14,
      "outputs": []
    },
    {
      "cell_type": "code",
      "metadata": {
        "id": "4J3IMyJ-Nooh",
        "colab": {
          "base_uri": "https://localhost:8080/",
          "height": 221
        },
        "outputId": "17a4d996-ba39-4487-900a-bdc6c0eb4de1"
      },
      "source": [
        "!pip install wandb -qqq\n",
        "import wandb\n",
        "wandb.login()"
      ],
      "execution_count": 11,
      "outputs": [
        {
          "output_type": "stream",
          "text": [
            "\u001b[K     |████████████████████████████████| 1.8MB 6.6MB/s \n",
            "\u001b[K     |████████████████████████████████| 174kB 21.4MB/s \n",
            "\u001b[K     |████████████████████████████████| 102kB 10.2MB/s \n",
            "\u001b[K     |████████████████████████████████| 133kB 23.0MB/s \n",
            "\u001b[K     |████████████████████████████████| 71kB 8.3MB/s \n",
            "\u001b[?25h  Building wheel for pathtools (setup.py) ... \u001b[?25l\u001b[?25hdone\n",
            "  Building wheel for subprocess32 (setup.py) ... \u001b[?25l\u001b[?25hdone\n"
          ],
          "name": "stdout"
        },
        {
          "output_type": "display_data",
          "data": {
            "application/javascript": [
              "\n",
              "        window._wandbApiKey = new Promise((resolve, reject) => {\n",
              "            function loadScript(url) {\n",
              "            return new Promise(function(resolve, reject) {\n",
              "                let newScript = document.createElement(\"script\");\n",
              "                newScript.onerror = reject;\n",
              "                newScript.onload = resolve;\n",
              "                document.body.appendChild(newScript);\n",
              "                newScript.src = url;\n",
              "            });\n",
              "            }\n",
              "            loadScript(\"https://cdn.jsdelivr.net/npm/postmate/build/postmate.min.js\").then(() => {\n",
              "            const iframe = document.createElement('iframe')\n",
              "            iframe.style.cssText = \"width:0;height:0;border:none\"\n",
              "            document.body.appendChild(iframe)\n",
              "            const handshake = new Postmate({\n",
              "                container: iframe,\n",
              "                url: 'https://wandb.ai/authorize'\n",
              "            });\n",
              "            const timeout = setTimeout(() => reject(\"Couldn't auto authenticate\"), 5000)\n",
              "            handshake.then(function(child) {\n",
              "                child.on('authorize', data => {\n",
              "                    clearTimeout(timeout)\n",
              "                    resolve(data)\n",
              "                });\n",
              "            });\n",
              "            })\n",
              "        });\n",
              "    "
            ],
            "text/plain": [
              "<IPython.core.display.Javascript object>"
            ]
          },
          "metadata": {
            "tags": []
          }
        },
        {
          "output_type": "stream",
          "text": [
            "\u001b[34m\u001b[1mwandb\u001b[0m: You can find your API key in your browser here: https://wandb.ai/authorize\n"
          ],
          "name": "stderr"
        },
        {
          "output_type": "stream",
          "text": [
            "wandb: Paste an API key from your profile and hit enter: ··········\n"
          ],
          "name": "stdout"
        },
        {
          "output_type": "stream",
          "text": [
            "\u001b[34m\u001b[1mwandb\u001b[0m: Appending key for api.wandb.ai to your netrc file: /root/.netrc\n"
          ],
          "name": "stderr"
        },
        {
          "output_type": "execute_result",
          "data": {
            "text/plain": [
              "True"
            ]
          },
          "metadata": {
            "tags": []
          },
          "execution_count": 11
        }
      ]
    },
    {
      "cell_type": "code",
      "metadata": {
        "id": "zzkKKT7PXKur"
      },
      "source": [
        "import wandb\n",
        "from wandb.keras import WandbCallback"
      ],
      "execution_count": 12,
      "outputs": []
    },
    {
      "cell_type": "code",
      "metadata": {
        "id": "IwW4WYX7Noek",
        "colab": {
          "base_uri": "https://localhost:8080/"
        },
        "outputId": "2a52f1cb-378a-46cb-a85b-3e9747af0a6c"
      },
      "source": [
        "sweep_config = {\n",
        "  'name': 'RNN',\n",
        "  'method': 'bayes',\n",
        "  'metric': {\n",
        "      'name': 'accuracy',\n",
        "      'goal': 'maximize'   \n",
        "    },\n",
        "  'parameters': {\n",
        "        'encoder_layers':{\n",
        "            'values':[1,2,3]\n",
        "        },\n",
        "        'decoder_layers':{\n",
        "            'values':[1,2,3]\n",
        "        },\n",
        "        'hidden_layer_size':{\n",
        "            'values':[64,128,256]\n",
        "        },\n",
        "        'cell_type':{\n",
        "            'values':['GRU', 'LSTM','RNN']\n",
        "        },\n",
        "        'dropout':{\n",
        "            'values':[0.0,0.3]\n",
        "        },\n",
        "        'recurrent_dropout':{\n",
        "            'values':[0.0,0.3]\n",
        "        },\n",
        "        'beam_size':{\n",
        "            'values':[1,3,5]\n",
        "        }\n",
        "\n",
        "    }\n",
        "}\n",
        "\n",
        "sweep_id = wandb.sweep(sweep_config, project='RNN_Assignment', entity='manideepladi')"
      ],
      "execution_count": 13,
      "outputs": [
        {
          "output_type": "stream",
          "text": [
            "Create sweep with ID: z9q9axa7\n",
            "Sweep URL: https://wandb.ai/manideepladi/RNN_Assignment/sweeps/z9q9axa7\n"
          ],
          "name": "stdout"
        }
      ]
    },
    {
      "cell_type": "code",
      "metadata": {
        "id": "G4vjV5jnPP_D"
      },
      "source": [
        "def train():\n",
        "  run = wandb.init()\n",
        "  configuration=run.config\n",
        "  if configuration.encoder_layers >= configuration.decoder_layers:\n",
        "    rnn = RNN_Model(no_of_encoder_layers=configuration.encoder_layers,no_of_decoder_layers=configuration.decoder_layers,\n",
        "                    latent_dimension=configuration.hidden_layer_size,dropout=configuration.dropout,recurrent_dropout=configuration.recurrent_dropout,cell_type=configuration.cell_type,beam_size=configuration.beam_size)\n",
        "    rnn.BUILD_MODEL(num_encoder_tokens,num_decoder_tokens)\n",
        "    rnn.FIT_RNN( encoder_input_data,decoder_input_data,  decoder_target_data,10,64,\n",
        "      validation_encoder_input_data , validation_decoder_input_data, validation_decoder_target_data)\n",
        "sweep_id=\"kczjjuqs\"\n",
        "wandb.agent(sweep_id=sweep_id, function=train)"
      ],
      "execution_count": null,
      "outputs": []
    },
    {
      "cell_type": "markdown",
      "metadata": {
        "id": "S9rm-2jURCL5"
      },
      "source": [
        "Training few best models found using hyperparamater tuning"
      ]
    },
    {
      "cell_type": "code",
      "metadata": {
        "id": "jWvMPgFb15LJ",
        "colab": {
          "base_uri": "https://localhost:8080/"
        },
        "outputId": "35a68909-6dc4-4177-93c6-7c6d37e455a2"
      },
      "source": [
        "rnn = RNN_Model(3,3,256,0,0.3,\"LSTM\",5)\n",
        "rnn.BUILD_MODEL(num_encoder_tokens,num_decoder_tokens)"
      ],
      "execution_count": 15,
      "outputs": [
        {
          "output_type": "stream",
          "text": [
            "WARNING:tensorflow:Layer lstm_6 will not use cuDNN kernel since it doesn't meet the cuDNN kernel criteria. It will use generic GPU kernel as fallback when running on GPU\n",
            "WARNING:tensorflow:Layer lstm_7 will not use cuDNN kernel since it doesn't meet the cuDNN kernel criteria. It will use generic GPU kernel as fallback when running on GPU\n",
            "WARNING:tensorflow:Layer lstm_8 will not use cuDNN kernel since it doesn't meet the cuDNN kernel criteria. It will use generic GPU kernel as fallback when running on GPU\n",
            "WARNING:tensorflow:Layer lstm_9 will not use cuDNN kernel since it doesn't meet the cuDNN kernel criteria. It will use generic GPU kernel as fallback when running on GPU\n",
            "WARNING:tensorflow:Layer lstm_10 will not use cuDNN kernel since it doesn't meet the cuDNN kernel criteria. It will use generic GPU kernel as fallback when running on GPU\n",
            "WARNING:tensorflow:Layer lstm_11 will not use cuDNN kernel since it doesn't meet the cuDNN kernel criteria. It will use generic GPU kernel as fallback when running on GPU\n"
          ],
          "name": "stdout"
        }
      ]
    },
    {
      "cell_type": "code",
      "metadata": {
        "colab": {
          "base_uri": "https://localhost:8080/",
          "height": 532
        },
        "id": "Q_Lxd5SOON1Q",
        "outputId": "d55a8e9f-32b7-4cb6-e862-634e5223c705"
      },
      "source": [
        "plot_model(rnn.model, show_shapes=True)"
      ],
      "execution_count": 16,
      "outputs": [
        {
          "output_type": "execute_result",
          "data": {
            "image/png": "[encoded data removed]",
            "text/plain": [
              "<IPython.core.display.Image object>"
            ]
          },
          "metadata": {
            "tags": []
          },
          "execution_count": 16
        }
      ]
    },
    {
      "cell_type": "code",
      "metadata": {
        "id": "z0skAZYTN9ge"
      },
      "source": [
        "rnn.FIT_RNN( encoder_input_data,decoder_input_data,  decoder_target_data,10,64,\n",
        "    validation_encoder_input_data,\n",
        "    validation_decoder_input_data,validation_decoder_target_data)"
      ],
      "execution_count": null,
      "outputs": []
    },
    {
      "cell_type": "code",
      "metadata": {
        "id": "PIk5exoEXo8x"
      },
      "source": [
        "  def get_predictions(ip_data,op_text,encoder_moder,decoder_model):\n",
        "    n=len(ip_data)\n",
        "    predictions = []\n",
        "    num_correct = 0\n",
        "    U=Utility()\n",
        "    for i in range(n):\n",
        "      input_seq = ip_data[i:i+1]\n",
        "      decoded_seq = U.decode_sequence_using_inference(input_seq,encoder_model,decoder_model)\n",
        "      if decoded_seq[-1]=='\\n':\n",
        "        decoded_seq = decoded_seq[:-1]\n",
        "\n",
        "      predictions+=[decoded_seq]\n",
        "      #excluding the '\\t and \\n'\n",
        "      true_word = op_text[i][1:-1]\n",
        "      #getting word level accuracy...\n",
        "      num_correct+=(decoded_seq == true_word)\n",
        "\n",
        "    acc = num_correct/n\n",
        "    return (acc,predictions)"
      ],
      "execution_count": 27,
      "outputs": []
    },
    {
      "cell_type": "code",
      "metadata": {
        "colab": {
          "base_uri": "https://localhost:8080/"
        },
        "id": "eCiOhcOzRhSm",
        "outputId": "38b90d22-6501-4f43-a8d8-c1419f27b931"
      },
      "source": [
        "encoder_model,decoder_model= rnn.load_model()\n",
        "test_wordAccuracy,predictions=get_predictions(test_encoder_input_data,test_target_texts,encoder_model,decoder_model)\n",
        "print(test_wordAccuracy)"
      ],
      "execution_count": 28,
      "outputs": [
        {
          "output_type": "stream",
          "text": [
            "WARNING:tensorflow:5 out of the last 1377 calls to <function Model.make_predict_function.<locals>.predict_function at 0x7fd5d463b0e0> triggered tf.function retracing. Tracing is expensive and the excessive number of tracings could be due to (1) creating @tf.function repeatedly in a loop, (2) passing tensors with different shapes, (3) passing Python objects instead of tensors. For (1), please define your @tf.function outside of the loop. For (2), @tf.function has experimental_relax_shapes=True option that relaxes argument shapes that can avoid unnecessary retracing. For (3), please refer to https://www.tensorflow.org/guide/function#controlling_retracing and https://www.tensorflow.org/api_docs/python/tf/function for  more details.\n",
            "0.3494002665482008\n"
          ],
          "name": "stdout"
        }
      ]
    },
    {
      "cell_type": "code",
      "metadata": {
        "id": "jZpjO7tlRga4"
      },
      "source": [
        "with open('prediction_vanilla.txt','w') as f:\n",
        "  f.write('predicted_word'+'\\t'+'true_word\\n')\n",
        "  for i in range(len(predictions)):\n",
        "    f.write(predictions[i]+'\\t'+test_target_texts[i])"
      ],
      "execution_count": 30,
      "outputs": []
    },
    {
      "cell_type": "markdown",
      "metadata": {
        "id": "6aES4I_oY9pX"
      },
      "source": [
        "Best model from hyperparameter tuning"
      ]
    },
    {
      "cell_type": "code",
      "metadata": {
        "id": "p9omv0QlYoXA"
      },
      "source": [
        "rnn2 = RNN_Model(3,3,256,0,0,\"GRU\",5)\n",
        "rnn2.BUILD_MODEL(num_encoder_tokens,num_decoder_tokens)\n",
        "rnn2.FIT_RNN( encoder_input_data,decoder_input_data,  decoder_target_data,10,64,\n",
        "    validation_encoder_input_data,\n",
        "    validation_decoder_input_data,validation_decoder_target_data)"
      ],
      "execution_count": null,
      "outputs": []
    },
    {
      "cell_type": "code",
      "metadata": {
        "id": "VcYH3783CuX_",
        "colab": {
          "base_uri": "https://localhost:8080/"
        },
        "outputId": "bd473517-b7e7-4aed-8543-342eb238d0d9"
      },
      "source": [
        "encoder_model,decoder_model= rnn2.load_model()\n",
        "test_wordAccuracy,predictions=get_predictions(test_encoder_input_data,test_target_texts,encoder_model,decoder_model)\n",
        "print(test_wordAccuracy)"
      ],
      "execution_count": 32,
      "outputs": [
        {
          "output_type": "stream",
          "text": [
            "0.35961794757885385\n"
          ],
          "name": "stdout"
        }
      ]
    },
    {
      "cell_type": "code",
      "metadata": {
        "id": "fdSEtVe1qKif"
      },
      "source": [
        "with open('prediction_vanilla2.txt','w') as f:\n",
        "  f.write('predicted_word'+'\\t'+'true_word\\n')\n",
        "  for i in range(len(predictions)):\n",
        "    f.write(predictions[i]+'\\t'+test_target_texts[i])"
      ],
      "execution_count": 34,
      "outputs": []
    },
    {
      "cell_type": "code",
      "metadata": {
        "id": "nXNfcD7nvPdB"
      },
      "source": [
        "long_index_nos= [ 843,4069,3750,535,121]\n",
        "short_index_nos = [1166,1032,3151,1063,2515]"
      ],
      "execution_count": 138,
      "outputs": []
    },
    {
      "cell_type": "code",
      "metadata": {
        "id": "k9KoVkd1veWm"
      },
      "source": [
        "  def get_prediction_word(index_nos,encoder_moder,decoder_model):\n",
        "    predictions=[]\n",
        "    U=Utility()\n",
        "    for i in range(len(index_nos)):\n",
        "      index=index_nos[i]\n",
        "      input_seq = test_encoder_input_data[index:index+1]\n",
        "      decoded_seq = U.decode_sequence_using_inference(input_seq,encoder_model,decoder_model)\n",
        "      if decoded_seq[-1]=='\\n':\n",
        "        decoded_seq = decoded_seq[:-1]\n",
        "\n",
        "      predictions+=[decoded_seq]\n",
        "    return predictions"
      ],
      "execution_count": 139,
      "outputs": []
    },
    {
      "cell_type": "code",
      "metadata": {
        "colab": {
          "base_uri": "https://localhost:8080/",
          "height": 197
        },
        "id": "y1GWvf4cy0-t",
        "outputId": "1352e588-9d93-4aad-9930-7598e8fe5778"
      },
      "source": [
        "\n",
        "import matplotlib.pyplot as plt\n",
        "import numpy as np\n",
        "from matplotlib.font_manager import FontProperties\n",
        "font_prop = FontProperties(fname = '/content/Nirmala.ttf',size=15)\n",
        "\n",
        "#\n",
        "# Creating 2 subplots\n",
        "fig, axs = plt.subplots(1, len(long_index_nos),figsize=(12,3))\n",
        " \n",
        "# Accessing each axes object to plot the data through returned array\n",
        "for i in range(len(long_index_nos)):\n",
        "  axs[i].get_xaxis().set_visible(False)\n",
        "  axs[i].get_yaxis().set_visible(False)\n",
        "  axs[i].text(0.2,0.4,long_index_predictions[i],fontsize = 20,fontproperties = font_prop,bbox={'facecolor': 'red', 'alpha': 0.5, 'pad': 10})\n",
        "  axs[i].text(0.2,0.8,test_target_texts[long_index_nos[i]][1:-1],fontsize = 20,fontproperties = font_prop,bbox={'facecolor': 'green', 'alpha': 0.5, 'pad': 10})\n",
        "\n",
        "#plt.grid(True, which='both')\n",
        "\n",
        "plt.show()"
      ],
      "execution_count": 159,
      "outputs": [
        {
          "output_type": "display_data",
          "data": {
            "image/png": "[encoded data removed]",
            "text/plain": [
              "<Figure size 864x216 with 5 Axes>"
            ]
          },
          "metadata": {
            "tags": [],
            "needs_background": "light"
          }
        }
      ]
    },
    {
      "cell_type": "code",
      "metadata": {
        "colab": {
          "base_uri": "https://localhost:8080/",
          "height": 197
        },
        "id": "PrVkkw2y_Bp6",
        "outputId": "c16d9b6d-4231-4871-e421-2e4736f8fb14"
      },
      "source": [
        "import matplotlib.pyplot as plt\n",
        "import numpy as np\n",
        "from matplotlib.font_manager import FontProperties\n",
        "font_prop = FontProperties(fname = '/content/Nirmala.ttf',size=15)\n",
        "\n",
        "#\n",
        "# Creating 2 subplots\n",
        "fig, axs = plt.subplots(1, len(short_index_nos),figsize=(12,3))\n",
        " \n",
        "# Accessing each axes object to plot the data through returned array\n",
        "for i in range(len(short_index_nos)):\n",
        "  axs[i].get_xaxis().set_visible(False)\n",
        "  axs[i].get_yaxis().set_visible(False)\n",
        "  axs[i].text(0.2,0.4,short_index_predictions[i],fontsize = 20,fontproperties = font_prop,bbox={'facecolor': 'red', 'alpha': 0.5, 'pad': 10})\n",
        "  axs[i].text(0.2,0.8,test_target_texts[short_index_nos[i]][1:-1],fontsize = 20,fontproperties = font_prop,bbox={'facecolor': 'green', 'alpha': 0.5, 'pad': 10})\n",
        "\n",
        "#plt.grid(True, which='both')\n",
        "\n",
        "plt.show()"
      ],
      "execution_count": 162,
      "outputs": [
        {
          "output_type": "display_data",
          "data": {
            "image/png": "[encoded data removed]",
            "text/plain": [
              "<Figure size 864x216 with 5 Axes>"
            ]
          },
          "metadata": {
            "tags": [],
            "needs_background": "light"
          }
        }
      ]
    }
  ]
}