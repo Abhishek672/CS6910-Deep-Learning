{
  "nbformat": 4,
  "nbformat_minor": 0,
  "metadata": {
    "colab": {
      "name": "RNN.ipynb",
      "provenance": []
    },
    "kernelspec": {
      "name": "python3",
      "display_name": "Python 3"
    },
    "language_info": {
      "name": "python"
    }
  },
  "cells": [
    {
      "cell_type": "markdown",
      "metadata": {
        "id": "XtPImZsVbFBM"
      },
      "source": [
        "Dakshina Dataset from google\n"
      ]
    },
    {
      "cell_type": "code",
      "metadata": {
        "id": "1vtAugqFbBYK"
      },
      "source": [
        ""
      ],
      "execution_count": null,
      "outputs": []
    }
  ]
}